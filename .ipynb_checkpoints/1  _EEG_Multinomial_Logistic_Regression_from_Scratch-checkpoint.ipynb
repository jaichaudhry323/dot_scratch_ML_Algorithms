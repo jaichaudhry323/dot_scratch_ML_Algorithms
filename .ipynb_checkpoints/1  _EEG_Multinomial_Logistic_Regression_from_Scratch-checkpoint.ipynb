{
 "cells": [
  {
   "cell_type": "markdown",
   "metadata": {
    "id": "U80PZssD_DlU"
   },
   "source": [
    "# Import All Necessary Libraries"
   ]
  },
  {
   "cell_type": "code",
   "execution_count": null,
   "metadata": {
    "id": "_DBfBgMN-hwd"
   },
   "outputs": [],
   "source": [
    "import numpy as np\n",
    "import pandas as pd\n",
    "from sklearn.linear_model import LogisticRegression\n",
    "from glob import glob\n",
    "import os\n",
    "\n",
    "from sklearn.preprocessing import StandardScaler"
   ]
  },
  {
   "cell_type": "markdown",
   "metadata": {
    "id": "EO7QcVj0-5HV"
   },
   "source": [
    "# Reading the Data"
   ]
  },
  {
   "cell_type": "code",
   "execution_count": null,
   "metadata": {
    "colab": {
     "base_uri": "https://localhost:8080/",
     "height": 224
    },
    "id": "HQWwu_FY-h_z",
    "outputId": "9a1d72a3-8046-46f5-d794-ffef261802da"
   },
   "outputs": [
    {
     "data": {
      "text/html": [
       "<div>\n",
       "<style scoped>\n",
       "    .dataframe tbody tr th:only-of-type {\n",
       "        vertical-align: middle;\n",
       "    }\n",
       "\n",
       "    .dataframe tbody tr th {\n",
       "        vertical-align: top;\n",
       "    }\n",
       "\n",
       "    .dataframe thead th {\n",
       "        text-align: right;\n",
       "    }\n",
       "</style>\n",
       "<table border=\"1\" class=\"dataframe\">\n",
       "  <thead>\n",
       "    <tr style=\"text-align: right;\">\n",
       "      <th></th>\n",
       "      <th>id</th>\n",
       "      <th>Fp1</th>\n",
       "      <th>Fp2</th>\n",
       "      <th>F7</th>\n",
       "      <th>F3</th>\n",
       "      <th>Fz</th>\n",
       "      <th>F4</th>\n",
       "      <th>F8</th>\n",
       "      <th>FC5</th>\n",
       "      <th>FC1</th>\n",
       "      <th>FC2</th>\n",
       "      <th>FC6</th>\n",
       "      <th>T7</th>\n",
       "      <th>C3</th>\n",
       "      <th>Cz</th>\n",
       "      <th>C4</th>\n",
       "      <th>T8</th>\n",
       "      <th>TP9</th>\n",
       "      <th>CP5</th>\n",
       "      <th>CP1</th>\n",
       "      <th>CP2</th>\n",
       "      <th>CP6</th>\n",
       "      <th>TP10</th>\n",
       "      <th>P7</th>\n",
       "      <th>P3</th>\n",
       "      <th>Pz</th>\n",
       "      <th>P4</th>\n",
       "      <th>P8</th>\n",
       "      <th>PO9</th>\n",
       "      <th>O1</th>\n",
       "      <th>Oz</th>\n",
       "      <th>O2</th>\n",
       "      <th>PO10</th>\n",
       "    </tr>\n",
       "  </thead>\n",
       "  <tbody>\n",
       "    <tr>\n",
       "      <th>0</th>\n",
       "      <td>subj1_series1_0</td>\n",
       "      <td>-31</td>\n",
       "      <td>363</td>\n",
       "      <td>211</td>\n",
       "      <td>121</td>\n",
       "      <td>211</td>\n",
       "      <td>15</td>\n",
       "      <td>717</td>\n",
       "      <td>279</td>\n",
       "      <td>35</td>\n",
       "      <td>158</td>\n",
       "      <td>543</td>\n",
       "      <td>-166</td>\n",
       "      <td>192</td>\n",
       "      <td>230</td>\n",
       "      <td>573</td>\n",
       "      <td>860</td>\n",
       "      <td>128</td>\n",
       "      <td>59</td>\n",
       "      <td>272</td>\n",
       "      <td>473</td>\n",
       "      <td>325</td>\n",
       "      <td>379</td>\n",
       "      <td>536</td>\n",
       "      <td>348</td>\n",
       "      <td>383</td>\n",
       "      <td>105</td>\n",
       "      <td>607</td>\n",
       "      <td>289</td>\n",
       "      <td>459</td>\n",
       "      <td>173</td>\n",
       "      <td>120</td>\n",
       "      <td>704</td>\n",
       "    </tr>\n",
       "    <tr>\n",
       "      <th>1</th>\n",
       "      <td>subj1_series1_1</td>\n",
       "      <td>-29</td>\n",
       "      <td>342</td>\n",
       "      <td>216</td>\n",
       "      <td>123</td>\n",
       "      <td>222</td>\n",
       "      <td>200</td>\n",
       "      <td>595</td>\n",
       "      <td>329</td>\n",
       "      <td>43</td>\n",
       "      <td>166</td>\n",
       "      <td>495</td>\n",
       "      <td>-138</td>\n",
       "      <td>201</td>\n",
       "      <td>233</td>\n",
       "      <td>554</td>\n",
       "      <td>846</td>\n",
       "      <td>185</td>\n",
       "      <td>47</td>\n",
       "      <td>269</td>\n",
       "      <td>455</td>\n",
       "      <td>307</td>\n",
       "      <td>368</td>\n",
       "      <td>529</td>\n",
       "      <td>327</td>\n",
       "      <td>369</td>\n",
       "      <td>78</td>\n",
       "      <td>613</td>\n",
       "      <td>248</td>\n",
       "      <td>409</td>\n",
       "      <td>141</td>\n",
       "      <td>83</td>\n",
       "      <td>737</td>\n",
       "    </tr>\n",
       "    <tr>\n",
       "      <th>2</th>\n",
       "      <td>subj1_series1_2</td>\n",
       "      <td>-172</td>\n",
       "      <td>278</td>\n",
       "      <td>105</td>\n",
       "      <td>93</td>\n",
       "      <td>222</td>\n",
       "      <td>511</td>\n",
       "      <td>471</td>\n",
       "      <td>280</td>\n",
       "      <td>12</td>\n",
       "      <td>177</td>\n",
       "      <td>534</td>\n",
       "      <td>-163</td>\n",
       "      <td>198</td>\n",
       "      <td>207</td>\n",
       "      <td>542</td>\n",
       "      <td>768</td>\n",
       "      <td>145</td>\n",
       "      <td>52</td>\n",
       "      <td>250</td>\n",
       "      <td>452</td>\n",
       "      <td>273</td>\n",
       "      <td>273</td>\n",
       "      <td>511</td>\n",
       "      <td>319</td>\n",
       "      <td>355</td>\n",
       "      <td>66</td>\n",
       "      <td>606</td>\n",
       "      <td>320</td>\n",
       "      <td>440</td>\n",
       "      <td>141</td>\n",
       "      <td>62</td>\n",
       "      <td>677</td>\n",
       "    </tr>\n",
       "    <tr>\n",
       "      <th>3</th>\n",
       "      <td>subj1_series1_3</td>\n",
       "      <td>-272</td>\n",
       "      <td>263</td>\n",
       "      <td>-52</td>\n",
       "      <td>99</td>\n",
       "      <td>208</td>\n",
       "      <td>511</td>\n",
       "      <td>428</td>\n",
       "      <td>261</td>\n",
       "      <td>27</td>\n",
       "      <td>180</td>\n",
       "      <td>525</td>\n",
       "      <td>-310</td>\n",
       "      <td>212</td>\n",
       "      <td>221</td>\n",
       "      <td>542</td>\n",
       "      <td>808</td>\n",
       "      <td>115</td>\n",
       "      <td>41</td>\n",
       "      <td>276</td>\n",
       "      <td>432</td>\n",
       "      <td>258</td>\n",
       "      <td>241</td>\n",
       "      <td>521</td>\n",
       "      <td>336</td>\n",
       "      <td>356</td>\n",
       "      <td>71</td>\n",
       "      <td>568</td>\n",
       "      <td>339</td>\n",
       "      <td>437</td>\n",
       "      <td>139</td>\n",
       "      <td>58</td>\n",
       "      <td>592</td>\n",
       "    </tr>\n",
       "    <tr>\n",
       "      <th>4</th>\n",
       "      <td>subj1_series1_4</td>\n",
       "      <td>-265</td>\n",
       "      <td>213</td>\n",
       "      <td>-67</td>\n",
       "      <td>99</td>\n",
       "      <td>155</td>\n",
       "      <td>380</td>\n",
       "      <td>476</td>\n",
       "      <td>353</td>\n",
       "      <td>32</td>\n",
       "      <td>165</td>\n",
       "      <td>507</td>\n",
       "      <td>-320</td>\n",
       "      <td>242</td>\n",
       "      <td>230</td>\n",
       "      <td>545</td>\n",
       "      <td>865</td>\n",
       "      <td>180</td>\n",
       "      <td>89</td>\n",
       "      <td>288</td>\n",
       "      <td>444</td>\n",
       "      <td>275</td>\n",
       "      <td>275</td>\n",
       "      <td>550</td>\n",
       "      <td>324</td>\n",
       "      <td>346</td>\n",
       "      <td>76</td>\n",
       "      <td>547</td>\n",
       "      <td>343</td>\n",
       "      <td>446</td>\n",
       "      <td>171</td>\n",
       "      <td>67</td>\n",
       "      <td>581</td>\n",
       "    </tr>\n",
       "  </tbody>\n",
       "</table>\n",
       "</div>"
      ],
      "text/plain": [
       "                id  Fp1  Fp2   F7   F3   Fz  ...   P8  PO9   O1   Oz   O2  PO10\n",
       "0  subj1_series1_0  -31  363  211  121  211  ...  607  289  459  173  120   704\n",
       "1  subj1_series1_1  -29  342  216  123  222  ...  613  248  409  141   83   737\n",
       "2  subj1_series1_2 -172  278  105   93  222  ...  606  320  440  141   62   677\n",
       "3  subj1_series1_3 -272  263  -52   99  208  ...  568  339  437  139   58   592\n",
       "4  subj1_series1_4 -265  213  -67   99  155  ...  547  343  446  171   67   581\n",
       "\n",
       "[5 rows x 33 columns]"
      ]
     },
     "execution_count": 4,
     "metadata": {
      "tags": []
     },
     "output_type": "execute_result"
    }
   ],
   "source": [
    "data = pd.read_csv('/content/train/subj1_series1_data.csv')\n",
    "feature_columns = data.columns\n",
    "data.head()\n"
   ]
  },
  {
   "cell_type": "code",
   "execution_count": null,
   "metadata": {
    "colab": {
     "base_uri": "https://localhost:8080/",
     "height": 204
    },
    "id": "1XIe00mY-iO3",
    "outputId": "6b325162-9f6d-4ce9-f10a-70134a54f5e6"
   },
   "outputs": [
    {
     "data": {
      "text/html": [
       "<div>\n",
       "<style scoped>\n",
       "    .dataframe tbody tr th:only-of-type {\n",
       "        vertical-align: middle;\n",
       "    }\n",
       "\n",
       "    .dataframe tbody tr th {\n",
       "        vertical-align: top;\n",
       "    }\n",
       "\n",
       "    .dataframe thead th {\n",
       "        text-align: right;\n",
       "    }\n",
       "</style>\n",
       "<table border=\"1\" class=\"dataframe\">\n",
       "  <thead>\n",
       "    <tr style=\"text-align: right;\">\n",
       "      <th></th>\n",
       "      <th>id</th>\n",
       "      <th>HandStart</th>\n",
       "      <th>FirstDigitTouch</th>\n",
       "      <th>BothStartLoadPhase</th>\n",
       "      <th>LiftOff</th>\n",
       "      <th>Replace</th>\n",
       "      <th>BothReleased</th>\n",
       "    </tr>\n",
       "  </thead>\n",
       "  <tbody>\n",
       "    <tr>\n",
       "      <th>0</th>\n",
       "      <td>subj1_series1_0</td>\n",
       "      <td>0</td>\n",
       "      <td>0</td>\n",
       "      <td>0</td>\n",
       "      <td>0</td>\n",
       "      <td>0</td>\n",
       "      <td>0</td>\n",
       "    </tr>\n",
       "    <tr>\n",
       "      <th>1</th>\n",
       "      <td>subj1_series1_1</td>\n",
       "      <td>0</td>\n",
       "      <td>0</td>\n",
       "      <td>0</td>\n",
       "      <td>0</td>\n",
       "      <td>0</td>\n",
       "      <td>0</td>\n",
       "    </tr>\n",
       "    <tr>\n",
       "      <th>2</th>\n",
       "      <td>subj1_series1_2</td>\n",
       "      <td>0</td>\n",
       "      <td>0</td>\n",
       "      <td>0</td>\n",
       "      <td>0</td>\n",
       "      <td>0</td>\n",
       "      <td>0</td>\n",
       "    </tr>\n",
       "    <tr>\n",
       "      <th>3</th>\n",
       "      <td>subj1_series1_3</td>\n",
       "      <td>0</td>\n",
       "      <td>0</td>\n",
       "      <td>0</td>\n",
       "      <td>0</td>\n",
       "      <td>0</td>\n",
       "      <td>0</td>\n",
       "    </tr>\n",
       "    <tr>\n",
       "      <th>4</th>\n",
       "      <td>subj1_series1_4</td>\n",
       "      <td>0</td>\n",
       "      <td>0</td>\n",
       "      <td>0</td>\n",
       "      <td>0</td>\n",
       "      <td>0</td>\n",
       "      <td>0</td>\n",
       "    </tr>\n",
       "  </tbody>\n",
       "</table>\n",
       "</div>"
      ],
      "text/plain": [
       "                id  HandStart  FirstDigitTouch  ...  LiftOff  Replace  BothReleased\n",
       "0  subj1_series1_0          0                0  ...        0        0             0\n",
       "1  subj1_series1_1          0                0  ...        0        0             0\n",
       "2  subj1_series1_2          0                0  ...        0        0             0\n",
       "3  subj1_series1_3          0                0  ...        0        0             0\n",
       "4  subj1_series1_4          0                0  ...        0        0             0\n",
       "\n",
       "[5 rows x 7 columns]"
      ]
     },
     "execution_count": 5,
     "metadata": {
      "tags": []
     },
     "output_type": "execute_result"
    }
   ],
   "source": [
    "outputs = pd.read_csv(\"/content/train/subj1_series1_events.csv\")\n",
    "output_columns = outputs.columns\n",
    "outputs.head()   \n"
   ]
  },
  {
   "cell_type": "markdown",
   "metadata": {
    "id": "HBP8m2fK_U5i"
   },
   "source": [
    "# Fetch All the Data into a List Using a Function"
   ]
  },
  {
   "cell_type": "code",
   "execution_count": null,
   "metadata": {
    "id": "CPe68U3K923V"
   },
   "outputs": [],
   "source": [
    "def get_data(num,x):\n",
    "  x_raw = []\n",
    "  y_raw = []\n",
    "\n",
    "  num += 1\n",
    "  x   += 1\n",
    "\n",
    "  num = min(num,9)\n",
    "\n",
    "  for i in range(1,num):\n",
    "\n",
    "    for j in range(1,9):\n",
    "      fnames = glob(\"/content/train/subj{}_series*_data.csv\".format(i))\n",
    "    \n",
    "    print(fnames)\n",
    "\n",
    "    for i in fnames:\n",
    "      print(i)\n",
    "      x = pd.read_csv(i)\n",
    "      x = x.drop(['id'],axis=1)\n",
    "      \n",
    "      i = i.replace(\"data\",\"events\")\n",
    "      print(i)\n",
    "      \n",
    "      y = pd.read_csv(i)\n",
    "      y = y.drop(['id'],axis=1)\n",
    "\n",
    "      x = x.to_numpy()\n",
    "      y = y.to_numpy()\n",
    "\n",
    "      print(x.shape)\n",
    "      print(y.shape)\n",
    "      \n",
    "      x_raw.append(x)\n",
    "      y_raw.append(y)\n",
    "      break\n",
    "\n",
    "      print(len(x_raw),len(y_raw))\n",
    "\n",
    "  return x_raw , y_raw\n"
   ]
  },
  {
   "cell_type": "code",
   "execution_count": null,
   "metadata": {
    "colab": {
     "base_uri": "https://localhost:8080/",
     "height": 156
    },
    "id": "BKyTByrw923b",
    "outputId": "d97662f4-5fe2-4bb2-c70d-6ff7356880e2"
   },
   "outputs": [
    {
     "name": "stdout",
     "output_type": "stream",
     "text": [
      "['/content/train/subj1_series8_data.csv', '/content/train/subj1_series7_data.csv', '/content/train/subj1_series3_data.csv', '/content/train/subj1_series1_data.csv', '/content/train/subj1_series2_data.csv', '/content/train/subj1_series4_data.csv', '/content/train/subj1_series5_data.csv', '/content/train/subj1_series6_data.csv']\n",
      "/content/train/subj1_series8_data.csv\n",
      "/content/train/subj1_series8_events.csv\n",
      "(117333, 32)\n",
      "(117333, 6)\n",
      "(1, 117333, 32)\n",
      "(1, 117333, 6)\n"
     ]
    }
   ],
   "source": [
    "x_raw , y_raw = get_data(1,3) \n",
    "\n",
    "x = np.array(x_raw) \n",
    "y = np.array(y_raw) \n",
    "\n",
    "print(x.shape) \n",
    "print(y.shape)\n"
   ]
  },
  {
   "cell_type": "markdown",
   "metadata": {
    "id": "05LTR8ne_o6o"
   },
   "source": [
    "# Compile Data"
   ]
  },
  {
   "cell_type": "code",
   "execution_count": null,
   "metadata": {
    "colab": {
     "base_uri": "https://localhost:8080/",
     "height": 51
    },
    "id": "XfKj_LxI_pNd",
    "outputId": "aa0d77e3-4a9d-4b63-b176-20d18a3bf546"
   },
   "outputs": [
    {
     "name": "stdout",
     "output_type": "stream",
     "text": [
      "(117333, 32)\n",
      "(117333, 6)\n"
     ]
    }
   ],
   "source": [
    "train = np.concatenate(x)\n",
    "print(train.shape)\n",
    "\n",
    "labels = np.concatenate(y)\n",
    "print(labels.shape)\n"
   ]
  },
  {
   "cell_type": "code",
   "execution_count": null,
   "metadata": {
    "id": "935aBa0A_pZG"
   },
   "outputs": [],
   "source": [
    "# Dropping Index\n",
    "\n",
    "feature_columns = feature_columns[1:]\n",
    "output_columns =  output_columns[1:]\n"
   ]
  },
  {
   "cell_type": "code",
   "execution_count": null,
   "metadata": {
    "colab": {
     "base_uri": "https://localhost:8080/",
     "height": 71
    },
    "id": "r3P3RJ02C_ce",
    "outputId": "0ba8d5e8-21f2-413f-a6d1-627aa3c4bb08"
   },
   "outputs": [
    {
     "name": "stdout",
     "output_type": "stream",
     "text": [
      "['Fp1', 'Fp2', 'F7', 'F3', 'Fz', 'F4', 'F8', 'FC5', 'FC1', 'FC2', 'FC6', 'T7', 'C3', 'Cz', 'C4', 'T8', 'TP9', 'CP5', 'CP1', 'CP2', 'CP6', 'TP10', 'P7', 'P3', 'Pz', 'P4', 'P8', 'PO9', 'O1', 'Oz', 'O2', 'PO10'] \n",
      " ['HandStart', 'FirstDigitTouch', 'BothStartLoadPhase', 'LiftOff', 'Replace', 'BothReleased']\n"
     ]
    }
   ],
   "source": [
    "# Creating a Df out of the compiled data\n",
    "df_train = pd.DataFrame( train )\n",
    "df_labels = pd.DataFrame( labels )\n",
    "\n",
    "df_train.columns = feature_columns\n",
    "df_labels.columns = output_columns\n",
    "\n",
    "print(list(feature_columns),\"\\n\",list(output_columns))"
   ]
  },
  {
   "cell_type": "code",
   "execution_count": null,
   "metadata": {
    "colab": {
     "base_uri": "https://localhost:8080/",
     "height": 241
    },
    "id": "rvogDXuAC_li",
    "outputId": "9da32eda-8283-411f-ebc6-0f40554fdcf5"
   },
   "outputs": [
    {
     "name": "stdout",
     "output_type": "stream",
     "text": [
      "117333\n"
     ]
    },
    {
     "data": {
      "text/html": [
       "<div>\n",
       "<style scoped>\n",
       "    .dataframe tbody tr th:only-of-type {\n",
       "        vertical-align: middle;\n",
       "    }\n",
       "\n",
       "    .dataframe tbody tr th {\n",
       "        vertical-align: top;\n",
       "    }\n",
       "\n",
       "    .dataframe thead th {\n",
       "        text-align: right;\n",
       "    }\n",
       "</style>\n",
       "<table border=\"1\" class=\"dataframe\">\n",
       "  <thead>\n",
       "    <tr style=\"text-align: right;\">\n",
       "      <th></th>\n",
       "      <th>Fp1</th>\n",
       "      <th>Fp2</th>\n",
       "      <th>F7</th>\n",
       "      <th>F3</th>\n",
       "      <th>Fz</th>\n",
       "      <th>F4</th>\n",
       "      <th>F8</th>\n",
       "      <th>FC5</th>\n",
       "      <th>FC1</th>\n",
       "      <th>FC2</th>\n",
       "      <th>FC6</th>\n",
       "      <th>T7</th>\n",
       "      <th>C3</th>\n",
       "      <th>Cz</th>\n",
       "      <th>C4</th>\n",
       "      <th>T8</th>\n",
       "      <th>TP9</th>\n",
       "      <th>CP5</th>\n",
       "      <th>CP1</th>\n",
       "      <th>CP2</th>\n",
       "      <th>CP6</th>\n",
       "      <th>TP10</th>\n",
       "      <th>P7</th>\n",
       "      <th>P3</th>\n",
       "      <th>Pz</th>\n",
       "      <th>P4</th>\n",
       "      <th>P8</th>\n",
       "      <th>PO9</th>\n",
       "      <th>O1</th>\n",
       "      <th>Oz</th>\n",
       "      <th>O2</th>\n",
       "      <th>PO10</th>\n",
       "    </tr>\n",
       "  </thead>\n",
       "  <tbody>\n",
       "    <tr>\n",
       "      <th>0</th>\n",
       "      <td>-225</td>\n",
       "      <td>-142</td>\n",
       "      <td>313</td>\n",
       "      <td>211</td>\n",
       "      <td>-61</td>\n",
       "      <td>508</td>\n",
       "      <td>270</td>\n",
       "      <td>542</td>\n",
       "      <td>57</td>\n",
       "      <td>-66</td>\n",
       "      <td>344</td>\n",
       "      <td>-222</td>\n",
       "      <td>397</td>\n",
       "      <td>42</td>\n",
       "      <td>300</td>\n",
       "      <td>-317</td>\n",
       "      <td>-585</td>\n",
       "      <td>-6</td>\n",
       "      <td>155</td>\n",
       "      <td>155</td>\n",
       "      <td>132</td>\n",
       "      <td>-167</td>\n",
       "      <td>149</td>\n",
       "      <td>118</td>\n",
       "      <td>154</td>\n",
       "      <td>266</td>\n",
       "      <td>473</td>\n",
       "      <td>-465</td>\n",
       "      <td>-140</td>\n",
       "      <td>14</td>\n",
       "      <td>-99</td>\n",
       "      <td>176</td>\n",
       "    </tr>\n",
       "    <tr>\n",
       "      <th>1</th>\n",
       "      <td>-240</td>\n",
       "      <td>-139</td>\n",
       "      <td>365</td>\n",
       "      <td>145</td>\n",
       "      <td>-70</td>\n",
       "      <td>507</td>\n",
       "      <td>270</td>\n",
       "      <td>507</td>\n",
       "      <td>55</td>\n",
       "      <td>-68</td>\n",
       "      <td>394</td>\n",
       "      <td>-149</td>\n",
       "      <td>449</td>\n",
       "      <td>45</td>\n",
       "      <td>303</td>\n",
       "      <td>-380</td>\n",
       "      <td>-615</td>\n",
       "      <td>50</td>\n",
       "      <td>170</td>\n",
       "      <td>156</td>\n",
       "      <td>135</td>\n",
       "      <td>-234</td>\n",
       "      <td>160</td>\n",
       "      <td>127</td>\n",
       "      <td>172</td>\n",
       "      <td>287</td>\n",
       "      <td>489</td>\n",
       "      <td>-376</td>\n",
       "      <td>-104</td>\n",
       "      <td>64</td>\n",
       "      <td>-62</td>\n",
       "      <td>224</td>\n",
       "    </tr>\n",
       "    <tr>\n",
       "      <th>2</th>\n",
       "      <td>-219</td>\n",
       "      <td>-52</td>\n",
       "      <td>409</td>\n",
       "      <td>89</td>\n",
       "      <td>-78</td>\n",
       "      <td>538</td>\n",
       "      <td>324</td>\n",
       "      <td>382</td>\n",
       "      <td>40</td>\n",
       "      <td>-81</td>\n",
       "      <td>431</td>\n",
       "      <td>-399</td>\n",
       "      <td>438</td>\n",
       "      <td>37</td>\n",
       "      <td>313</td>\n",
       "      <td>-62</td>\n",
       "      <td>-597</td>\n",
       "      <td>36</td>\n",
       "      <td>167</td>\n",
       "      <td>158</td>\n",
       "      <td>162</td>\n",
       "      <td>-262</td>\n",
       "      <td>194</td>\n",
       "      <td>125</td>\n",
       "      <td>177</td>\n",
       "      <td>280</td>\n",
       "      <td>469</td>\n",
       "      <td>-380</td>\n",
       "      <td>-144</td>\n",
       "      <td>8</td>\n",
       "      <td>-92</td>\n",
       "      <td>89</td>\n",
       "    </tr>\n",
       "    <tr>\n",
       "      <th>3</th>\n",
       "      <td>-183</td>\n",
       "      <td>-14</td>\n",
       "      <td>446</td>\n",
       "      <td>48</td>\n",
       "      <td>-68</td>\n",
       "      <td>556</td>\n",
       "      <td>359</td>\n",
       "      <td>315</td>\n",
       "      <td>41</td>\n",
       "      <td>-59</td>\n",
       "      <td>412</td>\n",
       "      <td>-86</td>\n",
       "      <td>403</td>\n",
       "      <td>64</td>\n",
       "      <td>322</td>\n",
       "      <td>22</td>\n",
       "      <td>-520</td>\n",
       "      <td>35</td>\n",
       "      <td>176</td>\n",
       "      <td>184</td>\n",
       "      <td>197</td>\n",
       "      <td>-193</td>\n",
       "      <td>227</td>\n",
       "      <td>140</td>\n",
       "      <td>184</td>\n",
       "      <td>303</td>\n",
       "      <td>468</td>\n",
       "      <td>-287</td>\n",
       "      <td>-96</td>\n",
       "      <td>37</td>\n",
       "      <td>-87</td>\n",
       "      <td>33</td>\n",
       "    </tr>\n",
       "    <tr>\n",
       "      <th>4</th>\n",
       "      <td>-202</td>\n",
       "      <td>-21</td>\n",
       "      <td>396</td>\n",
       "      <td>45</td>\n",
       "      <td>-60</td>\n",
       "      <td>534</td>\n",
       "      <td>342</td>\n",
       "      <td>306</td>\n",
       "      <td>32</td>\n",
       "      <td>-67</td>\n",
       "      <td>372</td>\n",
       "      <td>93</td>\n",
       "      <td>369</td>\n",
       "      <td>60</td>\n",
       "      <td>338</td>\n",
       "      <td>110</td>\n",
       "      <td>-499</td>\n",
       "      <td>20</td>\n",
       "      <td>182</td>\n",
       "      <td>197</td>\n",
       "      <td>242</td>\n",
       "      <td>-174</td>\n",
       "      <td>271</td>\n",
       "      <td>169</td>\n",
       "      <td>211</td>\n",
       "      <td>339</td>\n",
       "      <td>512</td>\n",
       "      <td>-236</td>\n",
       "      <td>-37</td>\n",
       "      <td>104</td>\n",
       "      <td>-19</td>\n",
       "      <td>123</td>\n",
       "    </tr>\n",
       "  </tbody>\n",
       "</table>\n",
       "</div>"
      ],
      "text/plain": [
       "   Fp1  Fp2   F7   F3  Fz   F4   F8  ...   P4   P8  PO9   O1   Oz  O2  PO10\n",
       "0 -225 -142  313  211 -61  508  270  ...  266  473 -465 -140   14 -99   176\n",
       "1 -240 -139  365  145 -70  507  270  ...  287  489 -376 -104   64 -62   224\n",
       "2 -219  -52  409   89 -78  538  324  ...  280  469 -380 -144    8 -92    89\n",
       "3 -183  -14  446   48 -68  556  359  ...  303  468 -287  -96   37 -87    33\n",
       "4 -202  -21  396   45 -60  534  342  ...  339  512 -236  -37  104 -19   123\n",
       "\n",
       "[5 rows x 32 columns]"
      ]
     },
     "execution_count": 15,
     "metadata": {
      "tags": []
     },
     "output_type": "execute_result"
    }
   ],
   "source": [
    "print(len(df_train))\n",
    "\n",
    "df_train.head()"
   ]
  },
  {
   "cell_type": "code",
   "execution_count": null,
   "metadata": {
    "colab": {
     "base_uri": "https://localhost:8080/",
     "height": 221
    },
    "id": "cKkAD5OsC_vJ",
    "outputId": "5ad476ae-c04b-471f-b927-1ab3d8ec7b37"
   },
   "outputs": [
    {
     "name": "stdout",
     "output_type": "stream",
     "text": [
      "117333\n"
     ]
    },
    {
     "data": {
      "text/html": [
       "<div>\n",
       "<style scoped>\n",
       "    .dataframe tbody tr th:only-of-type {\n",
       "        vertical-align: middle;\n",
       "    }\n",
       "\n",
       "    .dataframe tbody tr th {\n",
       "        vertical-align: top;\n",
       "    }\n",
       "\n",
       "    .dataframe thead th {\n",
       "        text-align: right;\n",
       "    }\n",
       "</style>\n",
       "<table border=\"1\" class=\"dataframe\">\n",
       "  <thead>\n",
       "    <tr style=\"text-align: right;\">\n",
       "      <th></th>\n",
       "      <th>HandStart</th>\n",
       "      <th>FirstDigitTouch</th>\n",
       "      <th>BothStartLoadPhase</th>\n",
       "      <th>LiftOff</th>\n",
       "      <th>Replace</th>\n",
       "      <th>BothReleased</th>\n",
       "    </tr>\n",
       "  </thead>\n",
       "  <tbody>\n",
       "    <tr>\n",
       "      <th>0</th>\n",
       "      <td>0</td>\n",
       "      <td>0</td>\n",
       "      <td>0</td>\n",
       "      <td>0</td>\n",
       "      <td>0</td>\n",
       "      <td>0</td>\n",
       "    </tr>\n",
       "    <tr>\n",
       "      <th>1</th>\n",
       "      <td>0</td>\n",
       "      <td>0</td>\n",
       "      <td>0</td>\n",
       "      <td>0</td>\n",
       "      <td>0</td>\n",
       "      <td>0</td>\n",
       "    </tr>\n",
       "    <tr>\n",
       "      <th>2</th>\n",
       "      <td>0</td>\n",
       "      <td>0</td>\n",
       "      <td>0</td>\n",
       "      <td>0</td>\n",
       "      <td>0</td>\n",
       "      <td>0</td>\n",
       "    </tr>\n",
       "    <tr>\n",
       "      <th>3</th>\n",
       "      <td>0</td>\n",
       "      <td>0</td>\n",
       "      <td>0</td>\n",
       "      <td>0</td>\n",
       "      <td>0</td>\n",
       "      <td>0</td>\n",
       "    </tr>\n",
       "    <tr>\n",
       "      <th>4</th>\n",
       "      <td>0</td>\n",
       "      <td>0</td>\n",
       "      <td>0</td>\n",
       "      <td>0</td>\n",
       "      <td>0</td>\n",
       "      <td>0</td>\n",
       "    </tr>\n",
       "  </tbody>\n",
       "</table>\n",
       "</div>"
      ],
      "text/plain": [
       "   HandStart  FirstDigitTouch  ...  Replace  BothReleased\n",
       "0          0                0  ...        0             0\n",
       "1          0                0  ...        0             0\n",
       "2          0                0  ...        0             0\n",
       "3          0                0  ...        0             0\n",
       "4          0                0  ...        0             0\n",
       "\n",
       "[5 rows x 6 columns]"
      ]
     },
     "execution_count": 16,
     "metadata": {
      "tags": []
     },
     "output_type": "execute_result"
    }
   ],
   "source": [
    "print(len(df_labels))\n",
    "\n",
    "df_labels.head()"
   ]
  },
  {
   "cell_type": "code",
   "execution_count": null,
   "metadata": {
    "colab": {
     "base_uri": "https://localhost:8080/",
     "height": 425
    },
    "id": "GE6itYYVD3ux",
    "outputId": "a5c7d7f0-b166-42c5-9da7-21648b1399b3"
   },
   "outputs": [
    {
     "name": "stdout",
     "output_type": "stream",
     "text": [
      "HandStart\n",
      "0    112233\n",
      "1      5100\n",
      "Name: HandStart, dtype: int64\n",
      "FirstDigitTouch\n",
      "0    112233\n",
      "1      5100\n",
      "Name: FirstDigitTouch, dtype: int64\n",
      "BothStartLoadPhase\n",
      "0    112233\n",
      "1      5100\n",
      "Name: BothStartLoadPhase, dtype: int64\n",
      "LiftOff\n",
      "0    112233\n",
      "1      5100\n",
      "Name: LiftOff, dtype: int64\n",
      "Replace\n",
      "0    112233\n",
      "1      5100\n",
      "Name: Replace, dtype: int64\n",
      "BothReleased\n",
      "0    112233\n",
      "1      5100\n",
      "Name: BothReleased, dtype: int64\n"
     ]
    }
   ],
   "source": [
    "# Analysing the number of 1's and 0's in the input data\n",
    "for i in output_columns:\n",
    "  print(i)\n",
    "  print(df_labels[i].value_counts())\n"
   ]
  },
  {
   "cell_type": "code",
   "execution_count": null,
   "metadata": {
    "colab": {
     "base_uri": "https://localhost:8080/",
     "height": 102
    },
    "id": "6k7N5HpOKNku",
    "outputId": "5cbf3604-4ca8-4528-d0ca-f655c31a7464"
   },
   "outputs": [
    {
     "name": "stdout",
     "output_type": "stream",
     "text": [
      "Index(['HandStart', 'FirstDigitTouch', 'BothStartLoadPhase', 'LiftOff',\n",
      "       'Replace', 'BothReleased'],\n",
      "      dtype='object')\n",
      "(117333,)\n",
      "(117333, 1)\n"
     ]
    }
   ],
   "source": [
    "print(output_columns)\n",
    "\n",
    "targets = np.argmax(labels,axis=1) + 1\n",
    "print(targets.shape)\n",
    "\n",
    "targets = np.zeros((labels.shape[0],1))\n",
    "print(targets.shape) "
   ]
  },
  {
   "cell_type": "code",
   "execution_count": null,
   "metadata": {
    "colab": {
     "base_uri": "https://localhost:8080/",
     "height": 34
    },
    "id": "kWM4KJzoLOsJ",
    "outputId": "cc31aabf-890c-49f1-d27d-96ac5d4eedf2"
   },
   "outputs": [
    {
     "name": "stdout",
     "output_type": "stream",
     "text": [
      "(117333, 1)\n"
     ]
    }
   ],
   "source": [
    "for i in range(0,len(df_labels)):\n",
    "  for j in range(0,6):\n",
    "    if labels[i][j]==1:\n",
    "      targets[i]=j+1\n",
    "      \n",
    "print(targets.shape)"
   ]
  },
  {
   "cell_type": "code",
   "execution_count": null,
   "metadata": {
    "colab": {
     "base_uri": "https://localhost:8080/",
     "height": 153
    },
    "id": "yrcugerIIzCx",
    "outputId": "11d86a62-7b64-4348-f8c8-40eb171dbd5a"
   },
   "outputs": [
    {
     "data": {
      "text/plain": [
       "0.0    94596\n",
       "6.0     5100\n",
       "1.0     5100\n",
       "4.0     5100\n",
       "3.0     3346\n",
       "5.0     3170\n",
       "2.0      921\n",
       "Name: 0, dtype: int64"
      ]
     },
     "execution_count": 68,
     "metadata": {
      "tags": []
     },
     "output_type": "execute_result"
    }
   ],
   "source": [
    "df_targets = pd.DataFrame(targets)\n",
    "df_targets[0].value_counts()\n"
   ]
  },
  {
   "cell_type": "code",
   "execution_count": null,
   "metadata": {
    "id": "CpSEgbrtFZwY"
   },
   "outputs": [],
   "source": [
    "scaler = StandardScaler()\n"
   ]
  },
  {
   "cell_type": "markdown",
   "metadata": {
    "id": "rF2dDqEY923z"
   },
   "source": [
    "# Normalise Data (PreProcessing Using Standard Scaler)\n"
   ]
  },
  {
   "cell_type": "code",
   "execution_count": null,
   "metadata": {
    "id": "jdJi6DW3925c"
   },
   "outputs": [],
   "source": []
  },
  {
   "cell_type": "markdown",
   "metadata": {
    "id": "5ku8xvTZ927G"
   },
   "source": [
    "# Dataset Standardization\n",
    "- `mean = 0`\n",
    "- `standard deviation = 1` \n",
    "\n",
    "<img src=\"https://miro.medium.com/max/432/1*sn2lNhtSyj1wLDPoNHfihw.jpeg\">"
   ]
  },
  {
   "cell_type": "code",
   "execution_count": null,
   "metadata": {
    "id": "pCKFtBLG927H"
   },
   "outputs": [],
   "source": [
    "# # selecting all the features within our dataset\n",
    "\n",
    "# features = df[['age', 'sex', 'cp', 'trestbps', 'chol', 'fbs', 'restecg', 'thalach', 'exang', 'oldpeak', 'slope', 'ca', 'thal']] \n",
    "# features = features.to_numpy() # converts feature set to numpy array\n",
    "# # target = df['num'].to_numpy() # converts target column to numpy array\n",
    "# features.shape, len(target) , \"LOL\""
   ]
  },
  {
   "cell_type": "code",
   "execution_count": null,
   "metadata": {
    "id": "Nfv0JYWgRcHF"
   },
   "outputs": [],
   "source": [
    "df = df_train"
   ]
  },
  {
   "cell_type": "code",
   "execution_count": null,
   "metadata": {
    "colab": {
     "base_uri": "https://localhost:8080/",
     "height": 34
    },
    "id": "OkkRV9iWRIuO",
    "outputId": "da276c4b-4bbd-4833-b123-28c80cf9b340"
   },
   "outputs": [
    {
     "data": {
      "text/plain": [
       "((117333, 32), 117333, 'LOL')"
      ]
     },
     "execution_count": 100,
     "metadata": {
      "tags": []
     },
     "output_type": "execute_result"
    }
   ],
   "source": [
    "# selecting all the features within our dataset\n",
    "\n",
    "features = df[list(df.columns)] \n",
    "features = features.to_numpy()                                                  # converts feature set to numpy array\n",
    "target = targets                                                                # converts target column to numpy array\n",
    "features.shape, len(target) , \"LOL\""
   ]
  },
  {
   "cell_type": "code",
   "execution_count": null,
   "metadata": {
    "id": "3_ZmOIwv927L"
   },
   "outputs": [],
   "source": []
  },
  {
   "cell_type": "code",
   "execution_count": null,
   "metadata": {
    "id": "5-Cg5n2s927Q"
   },
   "outputs": [],
   "source": [
    "# ok\n",
    "# function for standardizing data\n",
    "def standardScaler(feature_array):\n",
    "    \"\"\"Takes the numpy.ndarray object containing the features and performs standardization on the matrix.\n",
    "    The function iterates through each column and performs scaling on them individually.\n",
    "    \n",
    "    Args-\n",
    "        feature_array- Numpy array containing training features\n",
    "    \n",
    "    Returns-\n",
    "        None\n",
    "    \"\"\"\n",
    "    \n",
    "    total_cols = feature_array.shape[1]                                         # total number of columns \n",
    "    \n",
    "    for i in range(total_cols):                                                 # iterating through each column\n",
    "        feature_col = feature_array[:, i]\n",
    "        mean = feature_col.mean()                                               # mean stores mean value for the column\n",
    "        std = feature_col.std()                                                 # std stores standard deviation value for the column\n",
    "        feature_array[:, i] = (feature_array[:, i] - mean) / std                # standard scaling of each element of the column\n"
   ]
  },
  {
   "cell_type": "code",
   "execution_count": null,
   "metadata": {
    "colab": {
     "base_uri": "https://localhost:8080/",
     "height": 561
    },
    "id": "JLtU6XoD927T",
    "outputId": "d799b93e-225e-4c08-beb4-4a520d7bf9bf"
   },
   "outputs": [
    {
     "name": "stdout",
     "output_type": "stream",
     "text": [
      "0 0.7682349695925538\n",
      "1 0.7688666134085924\n",
      "2 0.6937424052358662\n",
      "3 0.6925926831856047\n",
      "4 0.7066219490814852\n",
      "5 0.6999521835400676\n",
      "6 0.701525822858882\n",
      "7 0.6787719439225257\n",
      "8 0.7072597198711376\n",
      "9 0.6960040366828097\n",
      "10 0.6794251922304964\n",
      "11 0.6875427849956052\n",
      "12 0.6954428217698128\n",
      "13 0.7004499956365654\n",
      "14 0.6847928211421993\n",
      "15 0.6885602331355803\n",
      "16 0.6761469512189775\n",
      "17 0.6803882876966979\n",
      "18 0.6941056386883446\n",
      "19 0.7004890516239679\n",
      "20 0.6940641296685316\n",
      "21 0.6855430913353499\n",
      "22 0.692460114428393\n",
      "23 0.6854621277115688\n",
      "24 0.6900154318596446\n",
      "25 0.6907594777767699\n",
      "26 0.6869852190723644\n",
      "27 0.6854953479853124\n",
      "28 0.6869448995178511\n",
      "29 0.687825873246521\n",
      "30 0.683010987958211\n",
      "31 0.6849390089277794\n"
     ]
    }
   ],
   "source": [
    "# ok\n",
    "standardScaler(features) # performing standardization on our feature set \n",
    "\n",
    "# checking if standardization worked\n",
    "total_cols = features.shape[1]                     # total number of columns \n",
    "for i in range(total_cols):\n",
    "    print(i,features[:, i].std())\n"
   ]
  },
  {
   "cell_type": "code",
   "execution_count": null,
   "metadata": {
    "id": "2lJxB7HI927Z"
   },
   "outputs": [],
   "source": [
    "# ok\n",
    "# standardScaler(df_train) # performing standardization on our feature set \n",
    "\n",
    "# # checking if standardization worked\n",
    "# total_cols = df_train.columns\n",
    "# for i in total_cols:\n",
    "#     print(df_train[i].std())\n"
   ]
  },
  {
   "cell_type": "code",
   "execution_count": null,
   "metadata": {
    "colab": {
     "base_uri": "https://localhost:8080/",
     "height": 224
    },
    "id": "1ViErRRd927h",
    "outputId": "91fd7d38-29e5-47f4-d7fb-75f5e28a6475"
   },
   "outputs": [
    {
     "data": {
      "text/html": [
       "<div>\n",
       "<style scoped>\n",
       "    .dataframe tbody tr th:only-of-type {\n",
       "        vertical-align: middle;\n",
       "    }\n",
       "\n",
       "    .dataframe tbody tr th {\n",
       "        vertical-align: top;\n",
       "    }\n",
       "\n",
       "    .dataframe thead th {\n",
       "        text-align: right;\n",
       "    }\n",
       "</style>\n",
       "<table border=\"1\" class=\"dataframe\">\n",
       "  <thead>\n",
       "    <tr style=\"text-align: right;\">\n",
       "      <th></th>\n",
       "      <th>Fp1</th>\n",
       "      <th>Fp2</th>\n",
       "      <th>F7</th>\n",
       "      <th>F3</th>\n",
       "      <th>Fz</th>\n",
       "      <th>F4</th>\n",
       "      <th>F8</th>\n",
       "      <th>FC5</th>\n",
       "      <th>FC1</th>\n",
       "      <th>FC2</th>\n",
       "      <th>FC6</th>\n",
       "      <th>T7</th>\n",
       "      <th>C3</th>\n",
       "      <th>Cz</th>\n",
       "      <th>C4</th>\n",
       "      <th>T8</th>\n",
       "      <th>TP9</th>\n",
       "      <th>CP5</th>\n",
       "      <th>CP1</th>\n",
       "      <th>CP2</th>\n",
       "      <th>CP6</th>\n",
       "      <th>TP10</th>\n",
       "      <th>P7</th>\n",
       "      <th>P3</th>\n",
       "      <th>Pz</th>\n",
       "      <th>P4</th>\n",
       "      <th>P8</th>\n",
       "      <th>PO9</th>\n",
       "      <th>O1</th>\n",
       "      <th>Oz</th>\n",
       "      <th>O2</th>\n",
       "      <th>PO10</th>\n",
       "    </tr>\n",
       "  </thead>\n",
       "  <tbody>\n",
       "    <tr>\n",
       "      <th>0</th>\n",
       "      <td>-225</td>\n",
       "      <td>-142</td>\n",
       "      <td>313</td>\n",
       "      <td>211</td>\n",
       "      <td>-61</td>\n",
       "      <td>508</td>\n",
       "      <td>270</td>\n",
       "      <td>542</td>\n",
       "      <td>57</td>\n",
       "      <td>-66</td>\n",
       "      <td>344</td>\n",
       "      <td>-222</td>\n",
       "      <td>397</td>\n",
       "      <td>42</td>\n",
       "      <td>300</td>\n",
       "      <td>-317</td>\n",
       "      <td>-585</td>\n",
       "      <td>-6</td>\n",
       "      <td>155</td>\n",
       "      <td>155</td>\n",
       "      <td>132</td>\n",
       "      <td>-167</td>\n",
       "      <td>149</td>\n",
       "      <td>118</td>\n",
       "      <td>154</td>\n",
       "      <td>266</td>\n",
       "      <td>473</td>\n",
       "      <td>-465</td>\n",
       "      <td>-140</td>\n",
       "      <td>14</td>\n",
       "      <td>-99</td>\n",
       "      <td>176</td>\n",
       "    </tr>\n",
       "    <tr>\n",
       "      <th>1</th>\n",
       "      <td>-240</td>\n",
       "      <td>-139</td>\n",
       "      <td>365</td>\n",
       "      <td>145</td>\n",
       "      <td>-70</td>\n",
       "      <td>507</td>\n",
       "      <td>270</td>\n",
       "      <td>507</td>\n",
       "      <td>55</td>\n",
       "      <td>-68</td>\n",
       "      <td>394</td>\n",
       "      <td>-149</td>\n",
       "      <td>449</td>\n",
       "      <td>45</td>\n",
       "      <td>303</td>\n",
       "      <td>-380</td>\n",
       "      <td>-615</td>\n",
       "      <td>50</td>\n",
       "      <td>170</td>\n",
       "      <td>156</td>\n",
       "      <td>135</td>\n",
       "      <td>-234</td>\n",
       "      <td>160</td>\n",
       "      <td>127</td>\n",
       "      <td>172</td>\n",
       "      <td>287</td>\n",
       "      <td>489</td>\n",
       "      <td>-376</td>\n",
       "      <td>-104</td>\n",
       "      <td>64</td>\n",
       "      <td>-62</td>\n",
       "      <td>224</td>\n",
       "    </tr>\n",
       "    <tr>\n",
       "      <th>2</th>\n",
       "      <td>-219</td>\n",
       "      <td>-52</td>\n",
       "      <td>409</td>\n",
       "      <td>89</td>\n",
       "      <td>-78</td>\n",
       "      <td>538</td>\n",
       "      <td>324</td>\n",
       "      <td>382</td>\n",
       "      <td>40</td>\n",
       "      <td>-81</td>\n",
       "      <td>431</td>\n",
       "      <td>-399</td>\n",
       "      <td>438</td>\n",
       "      <td>37</td>\n",
       "      <td>313</td>\n",
       "      <td>-62</td>\n",
       "      <td>-597</td>\n",
       "      <td>36</td>\n",
       "      <td>167</td>\n",
       "      <td>158</td>\n",
       "      <td>162</td>\n",
       "      <td>-262</td>\n",
       "      <td>194</td>\n",
       "      <td>125</td>\n",
       "      <td>177</td>\n",
       "      <td>280</td>\n",
       "      <td>469</td>\n",
       "      <td>-380</td>\n",
       "      <td>-144</td>\n",
       "      <td>8</td>\n",
       "      <td>-92</td>\n",
       "      <td>89</td>\n",
       "    </tr>\n",
       "    <tr>\n",
       "      <th>3</th>\n",
       "      <td>-183</td>\n",
       "      <td>-14</td>\n",
       "      <td>446</td>\n",
       "      <td>48</td>\n",
       "      <td>-68</td>\n",
       "      <td>556</td>\n",
       "      <td>359</td>\n",
       "      <td>315</td>\n",
       "      <td>41</td>\n",
       "      <td>-59</td>\n",
       "      <td>412</td>\n",
       "      <td>-86</td>\n",
       "      <td>403</td>\n",
       "      <td>64</td>\n",
       "      <td>322</td>\n",
       "      <td>22</td>\n",
       "      <td>-520</td>\n",
       "      <td>35</td>\n",
       "      <td>176</td>\n",
       "      <td>184</td>\n",
       "      <td>197</td>\n",
       "      <td>-193</td>\n",
       "      <td>227</td>\n",
       "      <td>140</td>\n",
       "      <td>184</td>\n",
       "      <td>303</td>\n",
       "      <td>468</td>\n",
       "      <td>-287</td>\n",
       "      <td>-96</td>\n",
       "      <td>37</td>\n",
       "      <td>-87</td>\n",
       "      <td>33</td>\n",
       "    </tr>\n",
       "    <tr>\n",
       "      <th>4</th>\n",
       "      <td>-202</td>\n",
       "      <td>-21</td>\n",
       "      <td>396</td>\n",
       "      <td>45</td>\n",
       "      <td>-60</td>\n",
       "      <td>534</td>\n",
       "      <td>342</td>\n",
       "      <td>306</td>\n",
       "      <td>32</td>\n",
       "      <td>-67</td>\n",
       "      <td>372</td>\n",
       "      <td>93</td>\n",
       "      <td>369</td>\n",
       "      <td>60</td>\n",
       "      <td>338</td>\n",
       "      <td>110</td>\n",
       "      <td>-499</td>\n",
       "      <td>20</td>\n",
       "      <td>182</td>\n",
       "      <td>197</td>\n",
       "      <td>242</td>\n",
       "      <td>-174</td>\n",
       "      <td>271</td>\n",
       "      <td>169</td>\n",
       "      <td>211</td>\n",
       "      <td>339</td>\n",
       "      <td>512</td>\n",
       "      <td>-236</td>\n",
       "      <td>-37</td>\n",
       "      <td>104</td>\n",
       "      <td>-19</td>\n",
       "      <td>123</td>\n",
       "    </tr>\n",
       "  </tbody>\n",
       "</table>\n",
       "</div>"
      ],
      "text/plain": [
       "   Fp1  Fp2   F7   F3  Fz   F4   F8  ...   P4   P8  PO9   O1   Oz  O2  PO10\n",
       "0 -225 -142  313  211 -61  508  270  ...  266  473 -465 -140   14 -99   176\n",
       "1 -240 -139  365  145 -70  507  270  ...  287  489 -376 -104   64 -62   224\n",
       "2 -219  -52  409   89 -78  538  324  ...  280  469 -380 -144    8 -92    89\n",
       "3 -183  -14  446   48 -68  556  359  ...  303  468 -287  -96   37 -87    33\n",
       "4 -202  -21  396   45 -60  534  342  ...  339  512 -236  -37  104 -19   123\n",
       "\n",
       "[5 rows x 32 columns]"
      ]
     },
     "execution_count": 76,
     "metadata": {
      "tags": []
     },
     "output_type": "execute_result"
    }
   ],
   "source": [
    "df_train.head()  "
   ]
  },
  {
   "cell_type": "markdown",
   "metadata": {
    "id": "Fcnz5mIB927p"
   },
   "source": [
    "# Formulating the Model from Scratch"
   ]
  },
  {
   "cell_type": "markdown",
   "metadata": {
    "id": "hueBU3Y6927q"
   },
   "source": [
    "<img src=\"https://miro.medium.com/max/1125/1*iw6tUEi05dAtlJNZl4anbQ.jpeg\">\n"
   ]
  },
  {
   "cell_type": "markdown",
   "metadata": {
    "id": "Z0vhh3vd927r"
   },
   "source": [
    "## Creating `random weights and biases` for our model"
   ]
  },
  {
   "cell_type": "code",
   "execution_count": null,
   "metadata": {
    "id": "-lUJg5Ib927s"
   },
   "outputs": [],
   "source": [
    "# ok\n",
    "input_classes = 32\n",
    "output_classes = 7\n",
    "\n",
    "# creating randomized weights for our linear predictor func\n",
    "weights = np.random.rand(output_classes, input_classes)\n",
    "\n",
    "# creating randomized biases for our linear predictor func\n",
    "biases = np.random.rand(output_classes, 1)\n",
    "\n",
    "# print(weights)\n",
    "# print(biases)"
   ]
  },
  {
   "cell_type": "code",
   "execution_count": null,
   "metadata": {
    "id": "M0DcG6FW9272"
   },
   "outputs": [],
   "source": [
    "# \n",
    "def linearPredict(featureMat, weights, biases):\n",
    "\n",
    "    \"\"\"This is the linear predictor function for our MLR model. It calculates the logit scores for each possible outcome.\n",
    "    \n",
    "    Args-\n",
    "        featureMat- A numpy array of features\n",
    "        weights- A numpy array of weights for our model\n",
    "        biases- A numpy array of biases for our model\n",
    "    \n",
    "    Returns-\n",
    "        logitScores- Logit scores for each possible outcome of the target variable for each feature set in the feature matrix\n",
    "    \"\"\"\n",
    "\n",
    "    logitScores = np.array([np.empty([output_classes]) for i in range(featureMat.shape[0])])     # creating empty(garbage value) array for each feature set\n",
    "    \n",
    "    for i in range(featureMat.shape[0]):                                                         # iterating through each feature set\n",
    "        logitScores[i] = (weights.dot(featureMat[i].reshape(-1,1)) + biases).reshape(-1)         # calculates logit score for each feature set then flattens the logit vector \n",
    "    \n",
    "    return logitScores\n"
   ]
  },
  {
   "cell_type": "code",
   "execution_count": null,
   "metadata": {
    "colab": {
     "base_uri": "https://localhost:8080/",
     "height": 51
    },
    "id": "qbl-Kn309275",
    "outputId": "d208ffa9-fd55-46db-9473-9710c3da1ece"
   },
   "outputs": [
    {
     "name": "stdout",
     "output_type": "stream",
     "text": [
      "<class 'numpy.ndarray'>\n",
      "117333\n"
     ]
    }
   ],
   "source": [
    "print(type(features))\n",
    "print(features.shape[0])\n"
   ]
  },
  {
   "cell_type": "code",
   "execution_count": null,
   "metadata": {
    "colab": {
     "base_uri": "https://localhost:8080/",
     "height": 34
    },
    "id": "2zGxOkHh9279",
    "outputId": "c1b6ffd2-7d7a-4b4f-ee26-21d5cea416e8"
   },
   "outputs": [
    {
     "data": {
      "text/plain": [
       "(117333, 7)"
      ]
     },
     "execution_count": 107,
     "metadata": {
      "tags": []
     },
     "output_type": "execute_result"
    }
   ],
   "source": [
    "# features = df[['age', 'sex', 'cp', 'trestbps', 'chol', 'fbs', 'restecg', 'thalach', 'exang', 'oldpeak', 'slope', 'ca', 'thal']]\n",
    "# features = features.to_numpy() # converts feature set to numpy array\n",
    "\n",
    "logitTest = linearPredict(features, weights, biases)\n",
    "logitTest.shape\n"
   ]
  },
  {
   "cell_type": "code",
   "execution_count": null,
   "metadata": {
    "id": "9aAA4Z9K928G"
   },
   "outputs": [],
   "source": [
    "eps = np.finfo(float).eps\n",
    "\n",
    "def softmaxNormalizer(logitMatrix):\n",
    "    \"\"\"Converts logit scores for each possible outcome to probability values.\n",
    "    \n",
    "    Args-\n",
    "        logitMatrix - This is the output of our logitPredict function; \n",
    "        consists  logit scores for each feature set\n",
    "    \n",
    "    Returns-\n",
    "        probabilities - Probability value of each outcome for each feature set\n",
    "    \"\"\"\n",
    "    \n",
    "    probabilities = np.array([np.empty([output_classes]) for i in range(logitMatrix.shape[0])])        # creating empty(garbage value) array for each feature set\n",
    "\n",
    "    for i in range(logitMatrix.shape[0]):\n",
    "        exp = np.exp(logitMatrix[i])                                                  # exponentiates each element of the logit array\n",
    "        sumOfArr = np.sum(exp)                                                        # adds up all the values in the exponentiated array\n",
    "        probabilities[i] = exp/(sumOfArr+eps)                                         # logit scores to probability values\n",
    "    \n",
    "    return probabilities\n"
   ]
  },
  {
   "cell_type": "markdown",
   "metadata": {
    "id": "Y2Wxit8S928T"
   },
   "source": [
    "# Combining `SoftmaxNormalizer` and `linearPredict`"
   ]
  },
  {
   "cell_type": "code",
   "execution_count": null,
   "metadata": {
    "id": "51HvT43f928T"
   },
   "outputs": [],
   "source": [
    "def multinomialLogReg(features, weights, biases):\n",
    "    \"\"\"Performs logistic regression on a given feature set.\n",
    "    \n",
    "    Args- \n",
    "        features- Numpy array of features(standardized)\n",
    "        weights- A numpy array of weights for our model\n",
    "        biases- A numpy array of biases for our model\n",
    "    \n",
    "    Returns-\n",
    "        probabilities, predictions\n",
    "        Here,\n",
    "            probabilities: Probability values for each possible outcome for each feature set in the feature matrix\n",
    "            predictions: Outcome with max probability for each feature set\n",
    "    \"\"\"\n",
    "    \n",
    "    logitScores = linearPredict(features, weights, biases) \n",
    "    probabilities = softmaxNormalizer(logitScores) \n",
    "    predictions = np.array([ np.argmax(i) for i in probabilities ]) #returns the outcome with max probability\n",
    "    return probabilities, predictions \n",
    "    "
   ]
  },
  {
   "cell_type": "markdown",
   "metadata": {
    "id": "KhYMSabb928e"
   },
   "source": [
    "# `Sample Try Run`"
   ]
  },
  {
   "cell_type": "code",
   "execution_count": null,
   "metadata": {
    "colab": {
     "base_uri": "https://localhost:8080/",
     "height": 51
    },
    "id": "XDsy-KLB928f",
    "outputId": "0061f57c-4c02-490b-85ea-7a81419b3225"
   },
   "outputs": [
    {
     "name": "stdout",
     "output_type": "stream",
     "text": [
      "(117333, 7)\n",
      "[4 4 0 ... 3 6 4]\n"
     ]
    }
   ],
   "source": [
    "probabilities, predictions = multinomialLogReg(features, weights, biases) \n",
    "print(probabilities.shape)  \n",
    "print(predictions) \n"
   ]
  },
  {
   "cell_type": "code",
   "execution_count": null,
   "metadata": {
    "colab": {
     "base_uri": "https://localhost:8080/",
     "height": 51
    },
    "id": "56fjcW4d928q",
    "outputId": "3262c3fe-8626-43c0-ede3-1b4f7f151730"
   },
   "outputs": [
    {
     "name": "stdout",
     "output_type": "stream",
     "text": [
      "<class 'numpy.ndarray'>\n",
      "(117333, 1)\n"
     ]
    }
   ],
   "source": [
    "def accuracy(predictions, target):\n",
    "    \"\"\"Calculates total accuracy for our model.\n",
    "    \n",
    "    Args- \n",
    "        predictions- Predicted target outcomes as predicted by our MLR function\n",
    "        target- Actual target values\n",
    "    \n",
    "    Returns-\n",
    "        accuracy- Accuracy percentage of our model\n",
    "    \"\"\"\n",
    "    \n",
    "    correctPred = 0\n",
    "    for i in range(len(predictions)):\n",
    "        if predictions[i] == target[i]:\n",
    "            correctPred += 1\n",
    "    accuracy = correctPred/len(predictions)*100\n",
    "    return accuracy\n",
    "\n",
    "print(type(targets))\n",
    "print(targets.shape)"
   ]
  },
  {
   "cell_type": "code",
   "execution_count": null,
   "metadata": {
    "colab": {
     "base_uri": "https://localhost:8080/",
     "height": 34
    },
    "id": "woP3PCi0928z",
    "outputId": "1b79bef9-7dae-4d4f-bc17-38766c64692c"
   },
   "outputs": [
    {
     "name": "stdout",
     "output_type": "stream",
     "text": [
      "15.979306759394202\n"
     ]
    }
   ],
   "source": [
    "\n",
    "acc = accuracy(predictions, targets)           # calculating accuracy for our model\n",
    "print(acc)"
   ]
  },
  {
   "cell_type": "markdown",
   "metadata": {
    "id": "6fQRHj4T9283"
   },
   "source": [
    "# `Model Optimization`"
   ]
  },
  {
   "cell_type": "code",
   "execution_count": null,
   "metadata": {
    "id": "QrBHxDZO9284"
   },
   "outputs": [],
   "source": [
    "# def train_test_split(dataframe, test_size = 0.2):\n",
    "#     \"\"\"Splits dataset into training and testing sets.\n",
    "    \n",
    "#     Args- \n",
    "#         dataframe- The dataframe object you want to split\n",
    "#         test_size- Size of test dataset that you want\n",
    "    \n",
    "#     Returns-\n",
    "#         train_features, train_target, test_features, test_target \n",
    "#     \"\"\"\n",
    "    \n",
    "#     data = dataframe.to_numpy()                            # converts dataframe to numpy array\n",
    "#     totalRows = data.shape[0]                              # total rows in the dataset\n",
    "#     testRows = np.round(totalRows * test_size)             # total rows in testing dataset\n",
    "#     randRowNum = np.random.randint(0, int(totalRows), int(testRows)) # randomly generated row numbers\n",
    "#     testData = np.array([data[i] for i in randRowNum])               # creates test dataset\n",
    "#     data = np.delete(data, randRowNum, axis = 0)                     # deletes test data rows from main dataset; making it training dataset\n",
    "    \n",
    "#     train_features = data[:, :]     \n",
    "#     train_target = data[:, -1]        \n",
    "#     test_features = testData[:, :]  \n",
    "#     test_target = testData[:, -1]     \n",
    "    \n",
    "#     return train_features, train_target, test_features, test_target    \n",
    "\n",
    "\n",
    "# # running train_test_split for our dataset\n",
    "\n",
    "# train_features, train_target, test_features, test_target = train_test_split(df, test_size = 0.17)\n",
    "# standardScaler(train_features) # standard scaling training set \n",
    "# standardScaler(test_features) # standard scaling testing set\n",
    "# train_features.shape, train_target.shape, test_features.shape, test_target.shape"
   ]
  },
  {
   "cell_type": "code",
   "execution_count": null,
   "metadata": {
    "colab": {
     "base_uri": "https://localhost:8080/",
     "height": 187
    },
    "id": "NyLwYo7i929A",
    "outputId": "d8c2e8fd-60c2-415a-9440-cf931a107bc9"
   },
   "outputs": [
    {
     "name": "stdout",
     "output_type": "stream",
     "text": [
      "0.0    94596\n",
      "6.0     5100\n",
      "4.0     5100\n",
      "1.0     5100\n",
      "3.0     3346\n",
      "5.0     3170\n",
      "2.0      921\n",
      "dtype: int64\n",
      "(117333, 32) (117333, 1)\n"
     ]
    },
    {
     "data": {
      "text/plain": [
       "((93866, 32), (23467, 32), (93866, 1), (23467, 1))"
      ]
     },
     "execution_count": 114,
     "metadata": {
      "tags": []
     },
     "output_type": "execute_result"
    }
   ],
   "source": [
    "df.head()\n",
    "temp = pd.DataFrame(targets)\n",
    "print(temp.value_counts())\n",
    "\n",
    "from sklearn.model_selection import train_test_split\n",
    "print(features.shape,targets.shape)\n",
    "\n",
    "train_features, train_target, test_features, test_target = train_test_split(features,targets,test_size = 0.2)\n",
    "train_features.shape, train_target.shape, test_features.shape, test_target.shape"
   ]
  },
  {
   "cell_type": "markdown",
   "metadata": {
    "id": "Be7rTeFd929C"
   },
   "source": [
    "# Define cross-entropy loss function"
   ]
  },
  {
   "cell_type": "markdown",
   "metadata": {
    "id": "pMj2D-aX929D"
   },
   "source": [
    "<img src=\"https://miro.medium.com/max/788/1*wLgdoEMbD6R-ImiRJ10m9Q.jpeg\">"
   ]
  },
  {
   "cell_type": "code",
   "execution_count": null,
   "metadata": {
    "id": "um2c--Du929G"
   },
   "outputs": [],
   "source": [
    "def crossEntropyLoss(probabilities, target):\n",
    "    \"\"\"Calculates cross entropy loss for a set of predictions and actual targets.\n",
    "    \n",
    "    Args-\n",
    "        predictions- Probability predictions, as returned by multinomialLogReg function\n",
    "        target- Actual target values\n",
    "    Returns- \n",
    "        CELoss- Average cross entropy loss\n",
    "    \"\"\"\n",
    "    \n",
    "    n_samples = probabilities.shape[0]\n",
    "    CELoss = 0\n",
    "    \n",
    "    for sample, i in zip(probabilities, target):\n",
    "        CELoss += -np.log(sample[i] + eps )\n",
    "    \n",
    "    CELoss /= (n_samples + eps)\n",
    "    \n",
    "    return CELoss   "
   ]
  },
  {
   "cell_type": "code",
   "execution_count": null,
   "metadata": {
    "id": "lbYN58RD929Q"
   },
   "outputs": [],
   "source": [
    "def stochGradDes(learning_rate, epochs, target, features, weights, biases):\n",
    "    \"\"\"Performs stochastic gradient descent optimization on the model.\n",
    "    \n",
    "    Args-\n",
    "        learning_rate- Size of the step the function will take during optimization\n",
    "        epochs- No. of iterations the function will run for on the model\n",
    "        target- Numpy array containing actual target values\n",
    "        features- Numpy array of independent variables\n",
    "        weights- Numpy array containing weights associated with each feature\n",
    "        biases- Array containinig model biases\n",
    "    \n",
    "    Returns-\n",
    "        weights, biases, loss_list\n",
    "        where,\n",
    "            weights- Latest weight calculated (Numpy array)\n",
    "            bias- Latest bias calculated (Numpy array)\n",
    "            loss_list- Array containing list of losses observed after each epoch    \n",
    "    \"\"\"\n",
    "    \n",
    "    target = target.astype(int)\n",
    "    loss_list = np.array([])       # initiating an empty array\n",
    "    \n",
    "    for i in range(epochs):\n",
    "        print(i)\n",
    "        probabilities, _ = multinomialLogReg(features, weights, biases) # Calculates probabilities for each possible outcome\n",
    "        \n",
    "        CELoss = crossEntropyLoss(probabilities, target)                # Calculates cross entropy loss for actual target and predictions\n",
    "        loss_list = np.append(loss_list, CELoss)                        # Adds the CELoss value for the epoch to loss_list\n",
    "        \n",
    "        probabilities[np.arange(features.shape[0]),target] -= 1         # Substract 1 from the scores of the correct outcome\n",
    "        \n",
    "        grad_weight = probabilities.T.dot(features)                     # gradient of loss w.r.t. weights\n",
    "        grad_biases = np.sum(probabilities, axis = 0).reshape(-1,1)     # gradient of loss w.r.t. biases\n",
    "        \n",
    "        #updating weights and biases\n",
    "        weights -= (learning_rate * grad_weight)\n",
    "        biases -= (learning_rate * grad_biases)\n",
    "        \n",
    "    return weights, biases, loss_list"
   ]
  },
  {
   "cell_type": "code",
   "execution_count": null,
   "metadata": {
    "colab": {
     "base_uri": "https://localhost:8080/",
     "height": 323
    },
    "id": "-PYRVU0Y929W",
    "outputId": "cedadeff-f3f6-4be0-e7a3-8a2b438e5b38"
   },
   "outputs": [
    {
     "name": "stdout",
     "output_type": "stream",
     "text": [
      "0\n"
     ]
    },
    {
     "ename": "IndexError",
     "evalue": "ignored",
     "output_type": "error",
     "traceback": [
      "\u001b[0;31m---------------------------------------------------------------------------\u001b[0m",
      "\u001b[0;31mIndexError\u001b[0m                                Traceback (most recent call last)",
      "\u001b[0;32m<ipython-input-117-68be85c40175>\u001b[0m in \u001b[0;36m<module>\u001b[0;34m()\u001b[0m\n\u001b[0;32m----> 1\u001b[0;31m \u001b[0mupdatedWeights\u001b[0m\u001b[0;34m,\u001b[0m \u001b[0mupdatedBiases\u001b[0m\u001b[0;34m,\u001b[0m \u001b[0mloss_list\u001b[0m \u001b[0;34m=\u001b[0m \u001b[0mstochGradDes\u001b[0m\u001b[0;34m(\u001b[0m\u001b[0;36m0.097\u001b[0m\u001b[0;34m,\u001b[0m \u001b[0;36m300\u001b[0m\u001b[0;34m,\u001b[0m \u001b[0mtrain_target\u001b[0m\u001b[0;34m,\u001b[0m \u001b[0mtrain_features\u001b[0m\u001b[0;34m,\u001b[0m \u001b[0mweights\u001b[0m\u001b[0;34m,\u001b[0m \u001b[0mbiases\u001b[0m\u001b[0;34m)\u001b[0m\u001b[0;34m\u001b[0m\u001b[0;34m\u001b[0m\u001b[0m\n\u001b[0m",
      "\u001b[0;32m<ipython-input-116-edaa184d7f36>\u001b[0m in \u001b[0;36mstochGradDes\u001b[0;34m(learning_rate, epochs, target, features, weights, biases)\u001b[0m\n\u001b[1;32m     25\u001b[0m         \u001b[0mprobabilities\u001b[0m\u001b[0;34m,\u001b[0m \u001b[0m_\u001b[0m \u001b[0;34m=\u001b[0m \u001b[0mmultinomialLogReg\u001b[0m\u001b[0;34m(\u001b[0m\u001b[0mfeatures\u001b[0m\u001b[0;34m,\u001b[0m \u001b[0mweights\u001b[0m\u001b[0;34m,\u001b[0m \u001b[0mbiases\u001b[0m\u001b[0;34m)\u001b[0m \u001b[0;31m# Calculates probabilities for each possible outcome\u001b[0m\u001b[0;34m\u001b[0m\u001b[0;34m\u001b[0m\u001b[0m\n\u001b[1;32m     26\u001b[0m \u001b[0;34m\u001b[0m\u001b[0m\n\u001b[0;32m---> 27\u001b[0;31m         \u001b[0mCELoss\u001b[0m \u001b[0;34m=\u001b[0m \u001b[0mcrossEntropyLoss\u001b[0m\u001b[0;34m(\u001b[0m\u001b[0mprobabilities\u001b[0m\u001b[0;34m,\u001b[0m \u001b[0mtarget\u001b[0m\u001b[0;34m)\u001b[0m                \u001b[0;31m# Calculates cross entropy loss for actual target and predictions\u001b[0m\u001b[0;34m\u001b[0m\u001b[0;34m\u001b[0m\u001b[0m\n\u001b[0m\u001b[1;32m     28\u001b[0m         \u001b[0mloss_list\u001b[0m \u001b[0;34m=\u001b[0m \u001b[0mnp\u001b[0m\u001b[0;34m.\u001b[0m\u001b[0mappend\u001b[0m\u001b[0;34m(\u001b[0m\u001b[0mloss_list\u001b[0m\u001b[0;34m,\u001b[0m \u001b[0mCELoss\u001b[0m\u001b[0;34m)\u001b[0m                        \u001b[0;31m# Adds the CELoss value for the epoch to loss_list\u001b[0m\u001b[0;34m\u001b[0m\u001b[0;34m\u001b[0m\u001b[0m\n\u001b[1;32m     29\u001b[0m \u001b[0;34m\u001b[0m\u001b[0m\n",
      "\u001b[0;32m<ipython-input-115-61b76d562eda>\u001b[0m in \u001b[0;36mcrossEntropyLoss\u001b[0;34m(probabilities, target)\u001b[0m\n\u001b[1;32m     13\u001b[0m \u001b[0;34m\u001b[0m\u001b[0m\n\u001b[1;32m     14\u001b[0m     \u001b[0;32mfor\u001b[0m \u001b[0msample\u001b[0m\u001b[0;34m,\u001b[0m \u001b[0mi\u001b[0m \u001b[0;32min\u001b[0m \u001b[0mzip\u001b[0m\u001b[0;34m(\u001b[0m\u001b[0mprobabilities\u001b[0m\u001b[0;34m,\u001b[0m \u001b[0mtarget\u001b[0m\u001b[0;34m)\u001b[0m\u001b[0;34m:\u001b[0m\u001b[0;34m\u001b[0m\u001b[0;34m\u001b[0m\u001b[0m\n\u001b[0;32m---> 15\u001b[0;31m         \u001b[0mCELoss\u001b[0m \u001b[0;34m+=\u001b[0m \u001b[0;34m-\u001b[0m\u001b[0mnp\u001b[0m\u001b[0;34m.\u001b[0m\u001b[0mlog\u001b[0m\u001b[0;34m(\u001b[0m\u001b[0msample\u001b[0m\u001b[0;34m[\u001b[0m\u001b[0mi\u001b[0m\u001b[0;34m]\u001b[0m \u001b[0;34m+\u001b[0m \u001b[0meps\u001b[0m \u001b[0;34m)\u001b[0m\u001b[0;34m\u001b[0m\u001b[0;34m\u001b[0m\u001b[0m\n\u001b[0m\u001b[1;32m     16\u001b[0m \u001b[0;34m\u001b[0m\u001b[0m\n\u001b[1;32m     17\u001b[0m     \u001b[0mCELoss\u001b[0m \u001b[0;34m/=\u001b[0m \u001b[0;34m(\u001b[0m\u001b[0mn_samples\u001b[0m \u001b[0;34m+\u001b[0m \u001b[0meps\u001b[0m\u001b[0;34m)\u001b[0m\u001b[0;34m\u001b[0m\u001b[0;34m\u001b[0m\u001b[0m\n",
      "\u001b[0;31mIndexError\u001b[0m: index 7 is out of bounds for axis 0 with size 7"
     ]
    }
   ],
   "source": [
    "updatedWeights, updatedBiases, loss_list = stochGradDes(0.097, 300, train_target, train_features, weights, biases)\n"
   ]
  },
  {
   "cell_type": "code",
   "execution_count": null,
   "metadata": {
    "colab": {
     "base_uri": "https://localhost:8080/",
     "height": 34
    },
    "id": "wVP5tS44929h",
    "outputId": "4c998fe7-dc66-4f90-d333-c631563d562b"
   },
   "outputs": [
    {
     "name": "stdout",
     "output_type": "stream",
     "text": [
      "[0 0 0 ... 0 0 0]\n"
     ]
    }
   ],
   "source": [
    "# testProbabilities, testPredictions = multinomialLogReg(test_features, updatedWeights, updatedBiases)\n",
    "testProbabilities, testPredictions = multinomialLogReg(features, updatedWeights, updatedBiases)\n",
    "\n",
    "# correctPreds = 0\n",
    "# for i in range(len(testPredictions)):\n",
    "#     if testPredictions[i] == test_target[i]:\n",
    "#         correctPreds += 1\n",
    "# acc = correctPreds / len(testPredictions) * 100\n",
    "# print(\"Model accuracy on test dataset - {}\".format(acc))\n",
    "print(testPredictions)\n"
   ]
  },
  {
   "cell_type": "code",
   "execution_count": null,
   "metadata": {
    "colab": {
     "base_uri": "https://localhost:8080/",
     "height": 34
    },
    "id": "4VDtSaUcfmJ5",
    "outputId": "c02366ab-aaa6-4a9b-fb35-cd2e04c96354"
   },
   "outputs": [
    {
     "name": "stdout",
     "output_type": "stream",
     "text": [
      "80.62181994835213\n"
     ]
    }
   ],
   "source": [
    "# print(type(accuracy))\n",
    "# del accuracy\n",
    "acc = accuracy(testPredictions, target)           # calculating accuracy for our model\n",
    "print(acc)\n",
    "\n"
   ]
  },
  {
   "cell_type": "code",
   "execution_count": null,
   "metadata": {
    "colab": {
     "base_uri": "https://localhost:8080/",
     "height": 34
    },
    "id": "Uw4UZaUll7fj",
    "outputId": "2348b6bd-78f8-404c-b510-e54244c05b53"
   },
   "outputs": [
    {
     "name": "stdout",
     "output_type": "stream",
     "text": [
      "0\n"
     ]
    }
   ],
   "source": [
    "def advanced_accuracy_measure(preds,target):\n",
    "\n",
    "  tot_cnt=0\n",
    "  cnt=0\n",
    "  for i in range(0,len(target)):\n",
    "    if target[i]!=0:\n",
    "      tot_cnt+=1\n",
    "      if target[i]==preds[i]:\n",
    "        cnt+=1\n",
    "\n",
    "  return (cnt//tot_cnt)*100\n",
    "      \n",
    "acc = advanced_accuracy_measure(testPredictions, target)           # calculating accuracy for our model\n",
    "print(acc)\n"
   ]
  },
  {
   "cell_type": "code",
   "execution_count": null,
   "metadata": {
    "id": "fu_4jEkxl75e"
   },
   "outputs": [],
   "source": []
  },
  {
   "cell_type": "code",
   "execution_count": null,
   "metadata": {
    "id": "h6w8-WAA929j"
   },
   "outputs": [],
   "source": [
    "accuracy = accuracy(testpredictions, target)           # calculating accuracy for our model\n",
    "print(accuracy)\n"
   ]
  },
  {
   "cell_type": "code",
   "execution_count": null,
   "metadata": {
    "id": "R8k6ffm8929n"
   },
   "outputs": [],
   "source": []
  }
 ],
 "metadata": {
  "colab": {
   "name": "From_Scratch_Multinomial_Logistic_Regression_on_MNIST.ipynb",
   "provenance": []
  },
  "kernelspec": {
   "display_name": "Python 3",
   "language": "python",
   "name": "python3"
  },
  "language_info": {
   "codemirror_mode": {
    "name": "ipython",
    "version": 3
   },
   "file_extension": ".py",
   "mimetype": "text/x-python",
   "name": "python",
   "nbconvert_exporter": "python",
   "pygments_lexer": "ipython3",
   "version": "3.7.4"
  }
 },
 "nbformat": 4,
 "nbformat_minor": 1
}
