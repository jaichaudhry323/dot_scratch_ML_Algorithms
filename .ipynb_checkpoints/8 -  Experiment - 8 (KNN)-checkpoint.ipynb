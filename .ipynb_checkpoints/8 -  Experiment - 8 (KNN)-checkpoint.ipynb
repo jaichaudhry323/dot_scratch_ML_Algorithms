{
 "cells": [
  {
   "cell_type": "markdown",
   "metadata": {},
   "source": [
    "# `Jai Chaudhry 2K18-SE-069`"
   ]
  },
  {
   "cell_type": "markdown",
   "metadata": {},
   "source": [
    "## Experiment - 8\n",
    "\n",
    "- Write a program to implement k-Nearest Neighbor algorithm to classify any dataset of your\n",
    "  choice. Print both correct and wrong predictions"
   ]
  },
  {
   "cell_type": "code",
   "execution_count": 1,
   "metadata": {},
   "outputs": [],
   "source": [
    "import numpy as np\n",
    "import pandas as pd\n",
    "eps = np.finfo(float).eps\n",
    "from numpy import log2 as log\n",
    "\n",
    "import copy\n",
    "\n",
    "from sklearn.metrics import accuracy_score\n",
    "from sklearn.metrics import precision_score\n",
    "from sklearn.metrics import recall_score\n",
    "from sklearn.metrics import f1_score\n",
    "from sklearn.metrics import roc_auc_score\n"
   ]
  },
  {
   "cell_type": "code",
   "execution_count": 7,
   "metadata": {},
   "outputs": [
    {
     "name": "stdout",
     "output_type": "stream",
     "text": [
      "['age', 'fnlwgt', 'educational-num', 'capital-gain', 'capital-loss', 'hours-per-week']\n"
     ]
    }
   ],
   "source": [
    "\n",
    "data = pd.read_csv('C:\\\\Users\\\\Jai\\\\Desktop\\\\adult.csv',na_values='?')\n",
    "\n",
    "num_cols = list(data.select_dtypes(include=[\"number\"]).columns)\n",
    "cat_cols = list(data.select_dtypes(exclude=[\"number\"]).columns)\n",
    "\n",
    "## Drop NaN valued tuples\n",
    "data = data.dropna() \n",
    "data.reset_index(drop=True,inplace=True)\n",
    "\n",
    "print(num_cols)"
   ]
  },
  {
   "cell_type": "code",
   "execution_count": 8,
   "metadata": {},
   "outputs": [],
   "source": [
    "def getBinaryLabels(labels):\n",
    "    nn = np.zeros(labels.shape[0])\n",
    "    for i in range(0,labels.shape[0]):\n",
    "        if(labels['income'].iloc[i] == '>50K'):\n",
    "            nn[i] = 1\n",
    "        else:\n",
    "            nn[i] = 0\n",
    "    return nn\n",
    "\n",
    "def getProcessedData(df):\n",
    "    \n",
    "    # Applying MinMax Scaling\n",
    "    for col in df.columns:\n",
    "        mx = np.max(df[col])\n",
    "        mn = np.min(df[col])\n",
    "        \n",
    "        df[col] = (df[col] - mn) / (mx - mn + eps)\n",
    "    return df"
   ]
  },
  {
   "cell_type": "code",
   "execution_count": 9,
   "metadata": {},
   "outputs": [],
   "source": [
    "def getPrediction(df_train, train_labels, sample, k):\n",
    "    x = df_train.values\n",
    "    x = x - sample\n",
    "    x = x**2\n",
    "    x = np.sum(x,axis=1)\n",
    "    x = x.reshape(x.shape[0],1)\n",
    "    train_labels = train_labels.reshape(train_labels.shape[0],1)\n",
    "    \n",
    "    result = np.concatenate((x,train_labels),axis = 1)\n",
    "    result = result[result[:,0].argsort()] \n",
    "    \n",
    "    one = 0\n",
    "    zero = 0\n",
    "    for i in range(0,k):\n",
    "        if result[i][1] == 0:\n",
    "            zero += 1\n",
    "        else:\n",
    "            one += 1\n",
    "        \n",
    "    if one>zero:\n",
    "        return 1\n",
    "    else:\n",
    "        return 0\n",
    "    \n",
    "    return 1\n",
    "\n",
    "\n",
    "def KNN(data, split, k, printResult = False):\n",
    "    \n",
    "    # we split\n",
    "    num_cols = list(data.select_dtypes(include=[\"number\"]).columns)\n",
    "    cat_cols = list(data.select_dtypes(exclude=[\"number\"]).columns)\n",
    "\n",
    "    labels = pd.DataFrame(data['income'])\n",
    "\n",
    "    test_size = 1 - split\n",
    "    train_size = int((1 - test_size)* len(data))\n",
    "\n",
    "    df_train = data[:train_size]\n",
    "    df_test = data[train_size:]\n",
    "\n",
    "    df_test.reset_index(drop=True)\n",
    "    df_train.reset_index(drop=True)\n",
    "    \n",
    "    train_labels = pd.DataFrame(df_train['income'])\n",
    "    test_labels  = pd.DataFrame(df_test['income'])\n",
    "    \n",
    "    df_train = df_train.select_dtypes(include=['number'])\n",
    "    df_test = df_test.select_dtypes(include=['number'])\n",
    "    \n",
    "    # take out lables in binary format, train and test labels\n",
    "    train_labels = getBinaryLabels(train_labels)\n",
    "    test_labels = getBinaryLabels(test_labels)\n",
    "    \n",
    "    # normalize\n",
    "    df_train = getProcessedData(df_train)\n",
    "    df_test = getProcessedData(df_test)\n",
    "    \n",
    "    preds = np.zeros(test_labels.shape[0])\n",
    "    \n",
    "    for i in range(0,len(df_test)):\n",
    "        preds[i] = getPrediction(df_train, train_labels, df_test.values[i], k)\n",
    "    \n",
    "    y_actual = test_labels\n",
    "    predictions =  preds\n",
    "    # accuracy: (tp + tn) / (p + n)\n",
    "    accuracy = accuracy_score(y_actual,predictions)*100\n",
    "    print('Accuracy      : %f' % (accuracy),\"%\")\n",
    "\n",
    "    # precision tp / (tp + fp)\n",
    "    precision = precision_score(y_actual,predictions)*100\n",
    "    print('Precision     : %f' % precision,\"%\")\n",
    "\n",
    "    # recall: tp / (tp + fn)\n",
    "    recall = recall_score(y_actual,predictions)*100\n",
    "    print('Recall        : %f' % recall,\"%\")\n",
    "\n",
    "    # f1: 2 tp / (2 tp + fp + fn)\n",
    "    f1 = f1_score(y_actual,predictions)*100\n",
    "    print('F1 score      : %f' % f1,\"%\")\n",
    "\n",
    "    # ROC AUC\n",
    "    auc = roc_auc_score(y_actual,predictions)*100\n",
    "    print(\"roc_auc_score :\",auc,\"%\")\n",
    "    \n",
    "    # then find sum row wise\n",
    "    # then concat with train labels\n",
    "    # then sort acc. to first parameter\n",
    "    # then take first k labels\n",
    "    # then find max freq label \n",
    "    # append it to preds array with size as test_size\n",
    "    # print if printResult = true\n",
    "    # then calculate performance measures using preds and test_labels which are both binary\n",
    "    \n",
    "    "
   ]
  },
  {
   "cell_type": "code",
   "execution_count": 14,
   "metadata": {},
   "outputs": [
    {
     "name": "stdout",
     "output_type": "stream",
     "text": [
      "(45222, 15)\n",
      "(45222, 15)\n"
     ]
    }
   ],
   "source": [
    "print(data.shape)\n",
    "ndata = data\n",
    "print(ndata.shape)"
   ]
  },
  {
   "cell_type": "code",
   "execution_count": 15,
   "metadata": {},
   "outputs": [
    {
     "name": "stdout",
     "output_type": "stream",
     "text": [
      "Accuracy      : 79.206899 %\n",
      "Precision     : 61.529458 %\n",
      "Recall        : 46.219226 %\n",
      "F1 score      : 52.786611 %\n",
      "roc_auc_score : 68.25486177611614 %\n"
     ]
    }
   ],
   "source": [
    "KNN(ndata,0.7,5) "
   ]
  },
  {
   "cell_type": "code",
   "execution_count": 16,
   "metadata": {},
   "outputs": [
    {
     "name": "stdout",
     "output_type": "stream",
     "text": [
      "Accuracy      : 80.577873 %\n",
      "Precision     : 69.851814 %\n",
      "Recall        : 40.064478 %\n",
      "F1 score      : 50.921959 %\n",
      "roc_auc_score : 67.12726623617631 %\n"
     ]
    }
   ],
   "source": [
    "KNN(ndata,0.7,10) "
   ]
  },
  {
   "cell_type": "code",
   "execution_count": 17,
   "metadata": {},
   "outputs": [
    {
     "name": "stdout",
     "output_type": "stream",
     "text": [
      "Accuracy      : 81.049606 %\n",
      "Precision     : 72.426667 %\n",
      "Recall        : 39.800703 %\n",
      "F1 score      : 51.371288 %\n",
      "roc_auc_score : 67.35480763292068 %\n"
     ]
    }
   ],
   "source": [
    "KNN(ndata,0.7,20) "
   ]
  },
  {
   "cell_type": "markdown",
   "metadata": {},
   "source": [
    "# `Jai Chaudhry 2K18-SE-069`"
   ]
  }
 ],
 "metadata": {
  "kernelspec": {
   "display_name": "Python 3",
   "language": "python",
   "name": "python3"
  },
  "language_info": {
   "codemirror_mode": {
    "name": "ipython",
    "version": 3
   },
   "file_extension": ".py",
   "mimetype": "text/x-python",
   "name": "python",
   "nbconvert_exporter": "python",
   "pygments_lexer": "ipython3",
   "version": "3.7.4"
  }
 },
 "nbformat": 4,
 "nbformat_minor": 2
}
