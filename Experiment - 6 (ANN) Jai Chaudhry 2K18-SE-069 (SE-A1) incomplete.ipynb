{
 "cells": [
  {
   "cell_type": "markdown",
   "metadata": {},
   "source": [
    "# `Jai Chaudhry 2K18-SE-069` "
   ]
  },
  {
   "cell_type": "markdown",
   "metadata": {},
   "source": []
  },
  {
   "cell_type": "code",
   "execution_count": 7,
   "metadata": {},
   "outputs": [],
   "source": [
    "import numpy as np \n",
    "import pandas as pd\n",
    "eps = np.finfo(float).eps\n",
    "import copy \n",
    "from numpy import log2 as log\n"
   ]
  },
  {
   "cell_type": "code",
   "execution_count": 8,
   "metadata": {},
   "outputs": [],
   "source": [
    "# tanh = (e^x - e^-x) / (e^x + e^-x)\n",
    "# derivative = \n",
    "def tanh(x,derivative = False):\n",
    "    if derivative:\n",
    "        return 1-x**2\n",
    "    return np.tanh(x)\n",
    "\n",
    "# (y_pred-y_actual)**2    \n",
    "def mse(y_pred,y_actual,derivative = False):\n",
    "    if derivative:\n",
    "        return y_pred*(y_pred - y_actual)\n",
    "    return (y_pred - y_actual)**2\n",
    "\n",
    "\n",
    "# sig(x) = e^x / (1 + e^x)\n",
    "def sigmoid(x,derivative = False):\n",
    "    if derivative:\n",
    "        return x*(1-x)\n"
   ]
  },
  {
   "cell_type": "code",
   "execution_count": 11,
   "metadata": {},
   "outputs": [],
   "source": [
    "class Layer:\n",
    "    def __init__(self,weights_shape,previous_shape,previous_result=None):\n",
    "        self.weights = self.init_weights(weights_shape)\n",
    "        self.out = None\n",
    "        self.bias = np.random.uniform(-1,1)\n",
    "    \n",
    "    def init_weights(self,weights_shape):\n",
    "        return np.random.uniform(-1,1,weights_shape)\n",
    "    \n",
    "    \n",
    "    def compute_output(self,previous_result,activation_function):\n",
    "        self.previous_result = previous_result\n",
    "        self.out = activation_function(self.previous_result.dot(self.weights)+sel.bias)\n",
    "    "
   ]
  },
  {
   "cell_type": "code",
   "execution_count": null,
   "metadata": {},
   "outputs": [],
   "source": [
    "def ANN:\n",
    "    def __init__(self, input_values, output_values, lr = 0.1, activation_function = sigmoid):\n",
    "    self.layers = []\n",
    "    self.input_values = input_values\n",
    "    self.output_values = output_values\n",
    "    self.lr = lr\n",
    "    self.activation_function = activation_function\n",
    "    \n",
    "    def feed_forward(self):\n",
    "        previous_result = self.layers[0].previous_result\n",
    "        \n",
    "        for layer in self.layers:\n",
    "            layer.compute_output(previous_result,activation_function)\n",
    "            previous_result = layer.out\n",
    "            \n",
    "        \n",
    "            \n",
    "    def back_prop(self):\n",
    "        \n",
    "        \n",
    "    \n",
    "    def train(self,epochs = 10):\n",
    "        \n",
    "        for i in range(0,epochs):\n",
    "            self.feed_forward()\n",
    "            self.back_prop()\n",
    "            \n",
    "    \n",
    "    def predict(self,input_values):\n",
    "        "
   ]
  },
  {
   "cell_type": "code",
   "execution_count": null,
   "metadata": {},
   "outputs": [],
   "source": []
  },
  {
   "cell_type": "markdown",
   "metadata": {},
   "source": [
    "## Rough Work"
   ]
  },
  {
   "cell_type": "code",
   "execution_count": 10,
   "metadata": {},
   "outputs": [
    {
     "name": "stdout",
     "output_type": "stream",
     "text": [
      "[[0.13474202 0.31588344]\n",
      " [0.53341996 0.75653854]]\n"
     ]
    }
   ],
   "source": [
    "print(np.random.uniform(-1,1,(2,2)))"
   ]
  },
  {
   "cell_type": "code",
   "execution_count": 1,
   "metadata": {},
   "outputs": [],
   "source": []
  },
  {
   "cell_type": "code",
   "execution_count": null,
   "metadata": {},
   "outputs": [],
   "source": []
  }
 ],
 "metadata": {
  "kernelspec": {
   "display_name": "Python 3",
   "language": "python",
   "name": "python3"
  },
  "language_info": {
   "codemirror_mode": {
    "name": "ipython",
    "version": 3
   },
   "file_extension": ".py",
   "mimetype": "text/x-python",
   "name": "python",
   "nbconvert_exporter": "python",
   "pygments_lexer": "ipython3",
   "version": "3.7.4"
  }
 },
 "nbformat": 4,
 "nbformat_minor": 2
}
