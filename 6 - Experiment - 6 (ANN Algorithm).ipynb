{
 "cells": [
  {
   "cell_type": "markdown",
   "metadata": {},
   "source": [
    "# `Jai Chaudhry 2K18-SE-069`"
   ]
  },
  {
   "cell_type": "markdown",
   "metadata": {},
   "source": [
    "## Experiment - 9\n",
    "\n",
    "- Build an Artificial Neural Network by implementing the Backpropagation algorithm and test the\n",
    "  same using appropriate data sets\n"
   ]
  },
  {
   "cell_type": "code",
   "execution_count": 2,
   "metadata": {},
   "outputs": [],
   "source": [
    "import numpy as np\n",
    "import pandas as pd\n",
    "eps = np.finfo(float).eps\n",
    "from numpy import log2 as log\n",
    "import copy \n"
   ]
  },
  {
   "cell_type": "code",
   "execution_count": 106,
   "metadata": {},
   "outputs": [],
   "source": [
    "def tanh(x, derivative=False):\n",
    "    if derivative:\n",
    "        1-x**2\n",
    "    return np.tanh(x)\n",
    "\n",
    "\n",
    "def sigmoid(x, derivative=False):\n",
    "    if derivative:\n",
    "        return x*(1-x)\n",
    "    return 1/(1+np.exp(-x + eps))\n",
    "\n",
    "\n",
    "def mse(y_pred, y, derivative=False):\n",
    "    if derivative:\n",
    "        return y_pred*(y_pred-y)\n",
    "    return 0.5*(y_pred-y)**2\n",
    "\n"
   ]
  },
  {
   "cell_type": "code",
   "execution_count": 3,
   "metadata": {},
   "outputs": [
    {
     "name": "stdout",
     "output_type": "stream",
     "text": [
      "[[ 0.05172371 -0.03248593]\n",
      " [ 0.75537272 -0.23551374]]\n"
     ]
    }
   ],
   "source": [
    "# Get Numbers in a range here (-1,1) , then specify shape\n",
    "a = np.random.uniform(-1,1, (2,2))\n",
    "print(a)\n"
   ]
  },
  {
   "cell_type": "code",
   "execution_count": 108,
   "metadata": {},
   "outputs": [],
   "source": [
    "class Layer:\n",
    "    def __init__(self, weights_shape, previous_result=None):\n",
    "        self.previous_result = previous_result\n",
    "        self.weights = self.init_weights(weights_shape)\n",
    "        self.out = None\n",
    "        self.bias = np.random.uniform(-1,1)\n",
    "\n",
    "    def init_weights(self, weights_shape):\n",
    "        return np.random.uniform(-1,1, weights_shape)\n",
    "\n",
    "\n",
    "    def compute_output(self, previous_result, activation_function):\n",
    "        self.previous_result = previous_result\n",
    "        self.out = activation_function(self.previous_result.dot(self.weights) + self.bias)\n"
   ]
  },
  {
   "cell_type": "code",
   "execution_count": 152,
   "metadata": {},
   "outputs": [],
   "source": [
    "class ANN:\n",
    "    def __init__(self, input_values, output_values, learning_rate=1e-1, activation_function = sigmoid):\n",
    "        self.input_values = input_values\n",
    "        self.layers = []\n",
    "        self.output_values = output_values\n",
    "        self.lr = learning_rate\n",
    "        self.activation_function = activation_function\n",
    "\n",
    "\n",
    "    def add_layer(self, nb_nodes):\n",
    "        if len(self.layers) == 0:\n",
    "            weights_shape = (self.input_values.shape[1], nb_nodes)\n",
    "            previous_result = self.input_values\n",
    "            \n",
    "            layer = Layer(weights_shape, previous_result)\n",
    "            \n",
    "        else:\n",
    "            weights_shape = (self.layers[-1].weights.shape[1], nb_nodes)\n",
    "            layer = Layer(weights_shape, self.layers[-1].out)\n",
    "            \n",
    "        self.layers.append(layer)\n",
    "\n",
    "\n",
    "    def feed_forward(self):\n",
    "        previous_result = self.layers[0].previous_result\n",
    "        \n",
    "        for layer in self.layers:\n",
    "            layer.compute_output(previous_result, self.activation_function)\n",
    "            previous_result = layer.out\n",
    "\n",
    "\n",
    "    def back_prop(self):\n",
    "        previous_layer = last_layer = self.layers[-1]\n",
    "        \n",
    "        d = mse(last_layer.out, self.output_values, True) * self.activation_function(last_layer.out, True)\n",
    "        \n",
    "        last_layer.weights -= self.lr * last_layer.previous_result.T.dot(d)\n",
    "        last_layer.bias -= self.lr * np.mean(d)\n",
    "        \n",
    "        for layer in np.flip(self.layers, axis=0)[1:]:\n",
    "            d = d.dot(previous_layer.weights.T) * self.activation_function(layer.out, True)\n",
    "            layer.weights -= self.lr * layer.previous_result.T.dot(d)\n",
    "            layer.bias -= self.lr * np.mean(d)\n",
    "            previous_layer = layer\n",
    "\n",
    "\n",
    "    def train(self, nb_epochs = 65000):\n",
    "        self.layers = np.array(self.layers)\n",
    "        error_list = []\n",
    "        \n",
    "        for i in range(nb_epochs):\n",
    "            self.feed_forward()\n",
    "            self.back_prop()\n",
    "            error_list.append(np.mean(mse(self.layers[-1].out, self.output_values)))\n",
    "            if i%5000==0:\n",
    "                print(i)\n",
    "        return error_list\n",
    "    \n",
    "    \n",
    "    def predict(self, input_values):\n",
    "        previous_result = np.array(input_values)\n",
    "        \n",
    "        for layer in self.layers:\n",
    "            layer.compute_output(previous_result, self.activation_function)\n",
    "            previous_result = layer.out\n",
    "        return previous_result\n",
    "\n"
   ]
  },
  {
   "cell_type": "code",
   "execution_count": 99,
   "metadata": {},
   "outputs": [],
   "source": [
    "train = np.array([\n",
    "    [0,0],\n",
    "    [0,1],\n",
    "    [1,0],\n",
    "    [1,1]\n",
    "])\n",
    "\n",
    "\n",
    "train_result = np.array([0,1,1,0]).reshape((-1,1))\n",
    "ann = ANN(train, train_result, learning_rate=1e-1, activation_function = sigmoid)\n",
    "ann.add_layer(10)\n",
    "ann.add_layer(5)\n",
    "ann.add_layer(3)\n",
    "\n",
    "ann.add_layer(1)\n",
    "error = ann.train(nb_epochs=65000)\n"
   ]
  },
  {
   "cell_type": "code",
   "execution_count": 100,
   "metadata": {},
   "outputs": [
    {
     "name": "stdout",
     "output_type": "stream",
     "text": [
      "[[0.]\n",
      " [1.]\n",
      " [1.]\n",
      " [0.]] \n",
      "\n",
      "[[0.04425457]\n",
      " [0.99049105]\n",
      " [0.99303464]\n",
      " [0.03966538]]\n"
     ]
    }
   ],
   "source": [
    "print(np.around(ann.predict(train)),\"\\n\")\n",
    "\n",
    "print(ann.predict(train))\n"
   ]
  },
  {
   "cell_type": "markdown",
   "metadata": {},
   "source": [
    "# `Jai Chaudhry 2K18-SE-069`"
   ]
  }
 ],
 "metadata": {
  "kernelspec": {
   "display_name": "Python 3",
   "language": "python",
   "name": "python3"
  },
  "language_info": {
   "codemirror_mode": {
    "name": "ipython",
    "version": 3
   },
   "file_extension": ".py",
   "mimetype": "text/x-python",
   "name": "python",
   "nbconvert_exporter": "python",
   "pygments_lexer": "ipython3",
   "version": "3.7.4"
  }
 },
 "nbformat": 4,
 "nbformat_minor": 2
}
