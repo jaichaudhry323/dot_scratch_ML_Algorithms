{
 "cells": [
  {
   "cell_type": "markdown",
   "metadata": {},
   "source": [
    "# `Jai Chaudhry 2K18-SE-069`"
   ]
  },
  {
   "cell_type": "markdown",
   "metadata": {},
   "source": [
    "## Experiment - 7\n",
    "\n",
    "- Write a program to implement the Naïve Bayesian classifier for appropriate dataset and compute\n",
    "  the performance measures of the model."
   ]
  },
  {
   "cell_type": "code",
   "execution_count": 22,
   "metadata": {},
   "outputs": [
    {
     "name": "stdout",
     "output_type": "stream",
     "text": [
      "2.220446049250313e-16\n"
     ]
    }
   ],
   "source": [
    "import pandas as pd\n",
    "import numpy as np\n",
    "from numpy import log2 as log\n",
    "import copy\n",
    "eps = np.finfo(float).eps\n",
    "\n",
    "print(eps)\n"
   ]
  },
  {
   "cell_type": "markdown",
   "metadata": {},
   "source": [
    "# Load Data"
   ]
  },
  {
   "cell_type": "code",
   "execution_count": 30,
   "metadata": {},
   "outputs": [
    {
     "name": "stdout",
     "output_type": "stream",
     "text": [
      "45222\n",
      "(45222, 15)\n"
     ]
    },
    {
     "data": {
      "text/html": [
       "<div>\n",
       "<style scoped>\n",
       "    .dataframe tbody tr th:only-of-type {\n",
       "        vertical-align: middle;\n",
       "    }\n",
       "\n",
       "    .dataframe tbody tr th {\n",
       "        vertical-align: top;\n",
       "    }\n",
       "\n",
       "    .dataframe thead th {\n",
       "        text-align: right;\n",
       "    }\n",
       "</style>\n",
       "<table border=\"1\" class=\"dataframe\">\n",
       "  <thead>\n",
       "    <tr style=\"text-align: right;\">\n",
       "      <th></th>\n",
       "      <th>age</th>\n",
       "      <th>workclass</th>\n",
       "      <th>fnlwgt</th>\n",
       "      <th>education</th>\n",
       "      <th>educational-num</th>\n",
       "      <th>marital-status</th>\n",
       "      <th>occupation</th>\n",
       "      <th>relationship</th>\n",
       "      <th>race</th>\n",
       "      <th>gender</th>\n",
       "      <th>capital-gain</th>\n",
       "      <th>capital-loss</th>\n",
       "      <th>hours-per-week</th>\n",
       "      <th>native-country</th>\n",
       "      <th>income</th>\n",
       "    </tr>\n",
       "  </thead>\n",
       "  <tbody>\n",
       "    <tr>\n",
       "      <td>0</td>\n",
       "      <td>25</td>\n",
       "      <td>Private</td>\n",
       "      <td>226802</td>\n",
       "      <td>11th</td>\n",
       "      <td>7</td>\n",
       "      <td>Never-married</td>\n",
       "      <td>Machine-op-inspct</td>\n",
       "      <td>Own-child</td>\n",
       "      <td>Black</td>\n",
       "      <td>Male</td>\n",
       "      <td>0</td>\n",
       "      <td>0</td>\n",
       "      <td>40</td>\n",
       "      <td>United-States</td>\n",
       "      <td>&lt;=50K</td>\n",
       "    </tr>\n",
       "    <tr>\n",
       "      <td>1</td>\n",
       "      <td>38</td>\n",
       "      <td>Private</td>\n",
       "      <td>89814</td>\n",
       "      <td>HS-grad</td>\n",
       "      <td>9</td>\n",
       "      <td>Married-civ-spouse</td>\n",
       "      <td>Farming-fishing</td>\n",
       "      <td>Husband</td>\n",
       "      <td>White</td>\n",
       "      <td>Male</td>\n",
       "      <td>0</td>\n",
       "      <td>0</td>\n",
       "      <td>50</td>\n",
       "      <td>United-States</td>\n",
       "      <td>&lt;=50K</td>\n",
       "    </tr>\n",
       "    <tr>\n",
       "      <td>2</td>\n",
       "      <td>28</td>\n",
       "      <td>Local-gov</td>\n",
       "      <td>336951</td>\n",
       "      <td>Assoc-acdm</td>\n",
       "      <td>12</td>\n",
       "      <td>Married-civ-spouse</td>\n",
       "      <td>Protective-serv</td>\n",
       "      <td>Husband</td>\n",
       "      <td>White</td>\n",
       "      <td>Male</td>\n",
       "      <td>0</td>\n",
       "      <td>0</td>\n",
       "      <td>40</td>\n",
       "      <td>United-States</td>\n",
       "      <td>&gt;50K</td>\n",
       "    </tr>\n",
       "  </tbody>\n",
       "</table>\n",
       "</div>"
      ],
      "text/plain": [
       "   age  workclass  fnlwgt   education  educational-num      marital-status  \\\n",
       "0   25    Private  226802        11th                7       Never-married   \n",
       "1   38    Private   89814     HS-grad                9  Married-civ-spouse   \n",
       "2   28  Local-gov  336951  Assoc-acdm               12  Married-civ-spouse   \n",
       "\n",
       "          occupation relationship   race gender  capital-gain  capital-loss  \\\n",
       "0  Machine-op-inspct    Own-child  Black   Male             0             0   \n",
       "1    Farming-fishing      Husband  White   Male             0             0   \n",
       "2    Protective-serv      Husband  White   Male             0             0   \n",
       "\n",
       "   hours-per-week native-country income  \n",
       "0              40  United-States  <=50K  \n",
       "1              50  United-States  <=50K  \n",
       "2              40  United-States   >50K  "
      ]
     },
     "execution_count": 30,
     "metadata": {},
     "output_type": "execute_result"
    }
   ],
   "source": [
    "data = pd.read_csv('C:\\\\Users\\\\Jai\\\\Desktop\\\\adult.csv',na_values='?')\n",
    "data = data.dropna() \n",
    "\n",
    "print(len(data))\n",
    "print(data.shape)\n",
    "data.head(3)\n"
   ]
  },
  {
   "cell_type": "markdown",
   "metadata": {},
   "source": [
    "# Processing : Numerical Columns to Categorical "
   ]
  },
  {
   "cell_type": "code",
   "execution_count": 31,
   "metadata": {},
   "outputs": [
    {
     "name": "stdout",
     "output_type": "stream",
     "text": [
      "Numeric Cols:\n",
      " ['age', 'fnlwgt', 'educational-num', 'capital-gain', 'capital-loss', 'hours-per-week'] \n",
      "\n",
      "Categorical Cols:\n",
      " ['workclass', 'education', 'marital-status', 'occupation', 'relationship', 'race', 'gender', 'native-country', 'income'] \n",
      "\n"
     ]
    }
   ],
   "source": [
    "num_cols = list(data.select_dtypes(include=[\"number\"]).columns)\n",
    "cat_cols = list(data.select_dtypes(exclude=[\"number\"]).columns)\n",
    "\n",
    "print(\"Numeric Cols:\\n\",num_cols,\"\\n\")\n",
    "print(\"Categorical Cols:\\n\",cat_cols,\"\\n\")\n"
   ]
  },
  {
   "cell_type": "code",
   "execution_count": 33,
   "metadata": {},
   "outputs": [
    {
     "name": "stdout",
     "output_type": "stream",
     "text": [
      "(45222, 15)\n",
      "(45222, 15)\n"
     ]
    }
   ],
   "source": [
    "print(data.shape)\n",
    "\n",
    "for c in num_cols:\n",
    "    temp = copy.deepcopy(data[c])\n",
    "    avg = data[c].mean()\n",
    "    temp[data[c]<avg] = 0\n",
    "    temp[data[c]>avg] = 1\n",
    "\n",
    "    data[c] = temp\n",
    "print(data.shape)"
   ]
  },
  {
   "cell_type": "code",
   "execution_count": 34,
   "metadata": {},
   "outputs": [
    {
     "name": "stdout",
     "output_type": "stream",
     "text": [
      "(45222, 15)\n"
     ]
    },
    {
     "data": {
      "text/html": [
       "<div>\n",
       "<style scoped>\n",
       "    .dataframe tbody tr th:only-of-type {\n",
       "        vertical-align: middle;\n",
       "    }\n",
       "\n",
       "    .dataframe tbody tr th {\n",
       "        vertical-align: top;\n",
       "    }\n",
       "\n",
       "    .dataframe thead th {\n",
       "        text-align: right;\n",
       "    }\n",
       "</style>\n",
       "<table border=\"1\" class=\"dataframe\">\n",
       "  <thead>\n",
       "    <tr style=\"text-align: right;\">\n",
       "      <th></th>\n",
       "      <th>age</th>\n",
       "      <th>fnlwgt</th>\n",
       "      <th>educational-num</th>\n",
       "      <th>capital-gain</th>\n",
       "      <th>capital-loss</th>\n",
       "      <th>hours-per-week</th>\n",
       "    </tr>\n",
       "  </thead>\n",
       "  <tbody>\n",
       "    <tr>\n",
       "      <td>count</td>\n",
       "      <td>45222.000000</td>\n",
       "      <td>45222.000000</td>\n",
       "      <td>45222.000000</td>\n",
       "      <td>45222.000000</td>\n",
       "      <td>45222.000000</td>\n",
       "      <td>45222.000000</td>\n",
       "    </tr>\n",
       "    <tr>\n",
       "      <td>mean</td>\n",
       "      <td>0.464022</td>\n",
       "      <td>0.437752</td>\n",
       "      <td>0.329021</td>\n",
       "      <td>0.081553</td>\n",
       "      <td>0.047322</td>\n",
       "      <td>0.304653</td>\n",
       "    </tr>\n",
       "    <tr>\n",
       "      <td>std</td>\n",
       "      <td>0.498709</td>\n",
       "      <td>0.496115</td>\n",
       "      <td>0.469863</td>\n",
       "      <td>0.273686</td>\n",
       "      <td>0.212329</td>\n",
       "      <td>0.460265</td>\n",
       "    </tr>\n",
       "    <tr>\n",
       "      <td>min</td>\n",
       "      <td>0.000000</td>\n",
       "      <td>0.000000</td>\n",
       "      <td>0.000000</td>\n",
       "      <td>0.000000</td>\n",
       "      <td>0.000000</td>\n",
       "      <td>0.000000</td>\n",
       "    </tr>\n",
       "    <tr>\n",
       "      <td>25%</td>\n",
       "      <td>0.000000</td>\n",
       "      <td>0.000000</td>\n",
       "      <td>0.000000</td>\n",
       "      <td>0.000000</td>\n",
       "      <td>0.000000</td>\n",
       "      <td>0.000000</td>\n",
       "    </tr>\n",
       "    <tr>\n",
       "      <td>50%</td>\n",
       "      <td>0.000000</td>\n",
       "      <td>0.000000</td>\n",
       "      <td>0.000000</td>\n",
       "      <td>0.000000</td>\n",
       "      <td>0.000000</td>\n",
       "      <td>0.000000</td>\n",
       "    </tr>\n",
       "    <tr>\n",
       "      <td>75%</td>\n",
       "      <td>1.000000</td>\n",
       "      <td>1.000000</td>\n",
       "      <td>1.000000</td>\n",
       "      <td>0.000000</td>\n",
       "      <td>0.000000</td>\n",
       "      <td>1.000000</td>\n",
       "    </tr>\n",
       "    <tr>\n",
       "      <td>max</td>\n",
       "      <td>1.000000</td>\n",
       "      <td>1.000000</td>\n",
       "      <td>1.000000</td>\n",
       "      <td>1.000000</td>\n",
       "      <td>1.000000</td>\n",
       "      <td>1.000000</td>\n",
       "    </tr>\n",
       "  </tbody>\n",
       "</table>\n",
       "</div>"
      ],
      "text/plain": [
       "                age        fnlwgt  educational-num  capital-gain  \\\n",
       "count  45222.000000  45222.000000     45222.000000  45222.000000   \n",
       "mean       0.464022      0.437752         0.329021      0.081553   \n",
       "std        0.498709      0.496115         0.469863      0.273686   \n",
       "min        0.000000      0.000000         0.000000      0.000000   \n",
       "25%        0.000000      0.000000         0.000000      0.000000   \n",
       "50%        0.000000      0.000000         0.000000      0.000000   \n",
       "75%        1.000000      1.000000         1.000000      0.000000   \n",
       "max        1.000000      1.000000         1.000000      1.000000   \n",
       "\n",
       "       capital-loss  hours-per-week  \n",
       "count  45222.000000    45222.000000  \n",
       "mean       0.047322        0.304653  \n",
       "std        0.212329        0.460265  \n",
       "min        0.000000        0.000000  \n",
       "25%        0.000000        0.000000  \n",
       "50%        0.000000        0.000000  \n",
       "75%        0.000000        1.000000  \n",
       "max        1.000000        1.000000  "
      ]
     },
     "execution_count": 34,
     "metadata": {},
     "output_type": "execute_result"
    }
   ],
   "source": [
    "print(data.shape)\n",
    "data.describe()\n"
   ]
  },
  {
   "cell_type": "markdown",
   "metadata": {},
   "source": [
    "# Naive Bayes\n"
   ]
  },
  {
   "cell_type": "code",
   "execution_count": 155,
   "metadata": {},
   "outputs": [],
   "source": [
    "from sklearn.metrics import accuracy_score\n",
    "from sklearn.metrics import precision_score\n",
    "from sklearn.metrics import recall_score\n",
    "from sklearn.metrics import f1_score\n",
    "from sklearn.metrics import roc_auc_score\n",
    "\n",
    "def find(df,query):\n",
    "    Class = df.keys()[-1]\n",
    "    attributes = df.columns\n",
    "    \n",
    "    target_variables = df[Class].unique()\n",
    "    \n",
    "    probabilities = []\n",
    "    \n",
    "    total = len(df)\n",
    "    \n",
    "    for target_variable in target_variables:\n",
    "        \n",
    "        # get all the instances of this target / output variable\n",
    "        den = len(df[Class][df[Class]==target_variable])\n",
    "        \n",
    "        prob = den/total\n",
    "        \n",
    "        for i in range(len(query)):\n",
    "            attr = attributes[i]\n",
    "            num = len(df[attr][df[attr]==query[attr]][df[Class]==target_variable])\n",
    "            \n",
    "            fraction = num / den\n",
    "            \n",
    "            prob *= fraction\n",
    "            \n",
    "        probabilities.append(prob)\n",
    "    return target_variables[np.argmax(probabilities)]\n",
    "    \n",
    "    \n",
    "def print_metrics(preds,actual):\n",
    "    \n",
    "    # first converting to 0 / 1\n",
    "    predictions = np.zeros(len(preds))\n",
    "    y_actual = np.zeros(len(actual))\n",
    "    \n",
    "    print(len(actual))\n",
    "    \n",
    "    for i in range(0,len(actual)):\n",
    "        if preds[i]=='>50K':\n",
    "            predictions[i] = 1\n",
    "            \n",
    "        if actual[i]=='>50K':\n",
    "            y_actual[i] = 1\n",
    "    \n",
    "#     print(y_actual)\n",
    "#     print(predictions)\n",
    "    \n",
    "    # accuracy: (tp + tn) / (p + n)\n",
    "    accuracy = accuracy_score(y_actual,predictions)*100\n",
    "    print('Accuracy      : %f' % (accuracy),\"%\")\n",
    "\n",
    "    # precision tp / (tp + fp)\n",
    "    precision = precision_score(y_actual,predictions)*100\n",
    "    print('Precision     : %f' % precision,\"%\")\n",
    "\n",
    "    # recall: tp / (tp + fn)\n",
    "    recall = recall_score(y_actual,predictions)*100\n",
    "    print('Recall        : %f' % recall,\"%\")\n",
    "\n",
    "    # f1: 2 tp / (2 tp + fp + fn)\n",
    "    f1 = f1_score(y_actual,predictions)*100\n",
    "    print('F1 score      : %f' % f1,\"%\")\n",
    "\n",
    "    # ROC AUC\n",
    "    auc = roc_auc_score(y_actual,predictions)*100\n",
    "    print(\"roc_auc_score :\",auc,\"%\")\n",
    "    \n",
    "\n",
    "def NaiveBayes(df_train, df_test, samples, printResult = False):\n",
    "    df_train = df_train.reset_index(drop = True)\n",
    "    df_test = df_test.reset_index(drop = True)\n",
    "    \n",
    "    correct_preds = 0\n",
    "    \n",
    "    y_actual = np.array(df_test.iloc[:min(samples,len(df_test)),-1])\n",
    "        \n",
    "    preds = []\n",
    "    \n",
    "    for i in range(0,min(samples,len(df_test))):\n",
    "        print(i)\n",
    "        query = df_test.iloc[i,:df_test.shape[1]-1]\n",
    "        res = find(df_train,query)\n",
    "        actual = df_test.iloc[i,:][-1]\n",
    "        \n",
    "        preds.append(res)\n",
    "        \n",
    "        if res == actual:\n",
    "            correct_preds += 1\n",
    "            \n",
    "        if printResult:\n",
    "            print(\"predicted : \", res ,\" actual: \", actual,correct_preds)\n",
    "    \n",
    "    print_metrics(preds,y_actual)\n",
    "#     acc = (correct_preds/min(samples,len(df_test))) * 100\n",
    "#     print(\"acccuracy : \",acc)\n"
   ]
  },
  {
   "cell_type": "markdown",
   "metadata": {},
   "source": [
    "# Dataset Splitting"
   ]
  },
  {
   "cell_type": "code",
   "execution_count": 156,
   "metadata": {},
   "outputs": [
    {
     "name": "stdout",
     "output_type": "stream",
     "text": [
      "31655 13567\n"
     ]
    }
   ],
   "source": [
    "test_size = 0.3\n",
    "tot_size = len(data)\n",
    "split = int(tot_size*(1-test_size))\n",
    "\n",
    "df_train = data[0:split]\n",
    "df_test = data[split:]\n",
    "\n",
    "print(len(df_train),len(df_test))\n"
   ]
  },
  {
   "cell_type": "code",
   "execution_count": 157,
   "metadata": {},
   "outputs": [
    {
     "name": "stdout",
     "output_type": "stream",
     "text": [
      "(13567,)\n"
     ]
    }
   ],
   "source": [
    "print(df_test.iloc[:,-1].shape)\n"
   ]
  },
  {
   "cell_type": "markdown",
   "metadata": {},
   "source": [
    "# Prediction and Performance Evaluation"
   ]
  },
  {
   "cell_type": "code",
   "execution_count": 158,
   "metadata": {
    "scrolled": true
   },
   "outputs": [
    {
     "name": "stdout",
     "output_type": "stream",
     "text": [
      "13567\n",
      "Accuracy      : 82.214196 %\n",
      "Precision     : 62.824134 %\n",
      "Recall        : 71.717468 %\n",
      "F1 score      : 66.976871 %\n",
      "roc_auc_score : 78.72924101976227 %\n"
     ]
    }
   ],
   "source": [
    "NaiveBayes(df_train,df_test,len(df_test))\n"
   ]
  },
  {
   "cell_type": "markdown",
   "metadata": {},
   "source": [
    "# `Jai Chaudhry 2K18-SE-069`"
   ]
  }
 ],
 "metadata": {
  "kernelspec": {
   "display_name": "Python 3",
   "language": "python",
   "name": "python3"
  },
  "language_info": {
   "codemirror_mode": {
    "name": "ipython",
    "version": 3
   },
   "file_extension": ".py",
   "mimetype": "text/x-python",
   "name": "python",
   "nbconvert_exporter": "python",
   "pygments_lexer": "ipython3",
   "version": "3.7.4"
  }
 },
 "nbformat": 4,
 "nbformat_minor": 2
}
