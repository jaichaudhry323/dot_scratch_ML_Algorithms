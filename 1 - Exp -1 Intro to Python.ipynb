{
 "cells": [
  {
   "cell_type": "markdown",
   "metadata": {},
   "source": [
    "## `Jai Chaudhry` `2K18/SE/069` `ML-LAB-C2-G2` "
   ]
  },
  {
   "cell_type": "markdown",
   "metadata": {},
   "source": [
    "# Experiment -1 \n",
    "### Exploring and demonstrating Python."
   ]
  },
  {
   "cell_type": "markdown",
   "metadata": {},
   "source": [
    "# Basics of Python"
   ]
  },
  {
   "cell_type": "code",
   "execution_count": 4,
   "metadata": {},
   "outputs": [
    {
     "name": "stdout",
     "output_type": "stream",
     "text": [
      "Hello World\n",
      "10\n",
      "10.5\n",
      "hello_python\n",
      "(5+3j)\n"
     ]
    }
   ],
   "source": [
    "print(\"Hello World\")\n",
    "\n",
    "a = 10\n",
    "b = 10.5\n",
    "c = \"hello_python\"\n",
    "d = 5 + 3j\n",
    "\n",
    "print(a)\n",
    "print(b)\n",
    "print(c)\n",
    "print(d)"
   ]
  },
  {
   "cell_type": "code",
   "execution_count": 5,
   "metadata": {},
   "outputs": [
    {
     "name": "stdout",
     "output_type": "stream",
     "text": [
      "<class 'int'>\n",
      "<class 'float'>\n",
      "<class 'str'>\n",
      "<class 'complex'>\n"
     ]
    }
   ],
   "source": [
    "print(type(a))\n",
    "print(type(b))\n",
    "print(type(c))\n",
    "print(type(d))"
   ]
  },
  {
   "cell_type": "code",
   "execution_count": 6,
   "metadata": {},
   "outputs": [
    {
     "name": "stdout",
     "output_type": "stream",
     "text": [
      "Enter yourJoker\n",
      "Hello Joker\n"
     ]
    }
   ],
   "source": [
    "# Working with Input\n",
    "name = input(\"Enter your\")\n",
    "print(\"Hello\",end=' ')\n",
    "print(name)"
   ]
  },
  {
   "cell_type": "code",
   "execution_count": 7,
   "metadata": {},
   "outputs": [
    {
     "name": "stdout",
     "output_type": "stream",
     "text": [
      "Enter a number23.23\n",
      "23.23\n",
      "539.6329000000001The square of the number is =539.6329000000001\n"
     ]
    }
   ],
   "source": [
    "# Typecasting\n",
    "a = float(input(\"Enter a number\"))\n",
    "print(a)\n",
    "print(a*a,end=\"\")\n",
    "\n",
    "print(\"The square of the number is =\" + str(a*a))"
   ]
  },
  {
   "cell_type": "code",
   "execution_count": 8,
   "metadata": {},
   "outputs": [],
   "source": [
    "# Multiple Variable Assignment\n",
    "a,b,c = 10,20,30.34"
   ]
  },
  {
   "cell_type": "code",
   "execution_count": 13,
   "metadata": {},
   "outputs": [
    {
     "name": "stdout",
     "output_type": "stream",
     "text": [
      "This is \n",
      "a multiline string \n"
     ]
    }
   ],
   "source": [
    "# Multi Line String\n",
    "mystring = \"\"\"This is \n",
    "a multiline string \"\"\"\n",
    "print(mystring)"
   ]
  },
  {
   "cell_type": "code",
   "execution_count": 11,
   "metadata": {},
   "outputs": [
    {
     "name": "stdout",
     "output_type": "stream",
     "text": [
      "Lets play Cricket\n"
     ]
    }
   ],
   "source": [
    "# If ElseIf Statement\n",
    "\n",
    "weather=\"Cool\"\n",
    "\n",
    "if weather==\"Rainy\":\n",
    "    print(\"Don't go outside\")\n",
    "    print(\"It is raining heavilly\")\n",
    "    \n",
    "elif weather==\"Cool\":\n",
    "    print(\"Lets play Cricket\")\n",
    "\n",
    "else:\n",
    "    print(\"Lets go for shopping\")"
   ]
  },
  {
   "cell_type": "code",
   "execution_count": 12,
   "metadata": {},
   "outputs": [
    {
     "name": "stdout",
     "output_type": "stream",
     "text": [
      "Step 1\n",
      "Step 2\n",
      "Step 3\n",
      "Step 4\n",
      "Step 5\n",
      "Step 6\n",
      "Step 7\n",
      "Step 8\n",
      "Step 9\n",
      "Step 10\n",
      "Loop Finished\n"
     ]
    }
   ],
   "source": [
    "# Loops\n",
    "n = 10\n",
    "i = 1\n",
    "\n",
    "while i<=n:\n",
    "    print(\"Step %d\"%i)\n",
    "    i = i + 1\n",
    "\n",
    "print(\"Loop Finished\")\n",
    "    "
   ]
  },
  {
   "cell_type": "code",
   "execution_count": 15,
   "metadata": {},
   "outputs": [
    {
     "name": "stdout",
     "output_type": "stream",
     "text": [
      "Hello Factorial\n",
      "120\n"
     ]
    }
   ],
   "source": [
    "# Function :\n",
    "def helloFact():\n",
    "    print(\"Hello Factorial\")\n",
    "    \n",
    "helloFact()\n",
    "\n",
    "def factorial(n):\n",
    "    ans = 1\n",
    "    for i in range(1,n+1):\n",
    "        ans *= i\n",
    "    return ans\n",
    "\n",
    "print(factorial(5))"
   ]
  },
  {
   "cell_type": "markdown",
   "metadata": {},
   "source": [
    "# Data Structures\n",
    "- Tuples\n",
    "- Dictionaries\n",
    "- Sets"
   ]
  },
  {
   "cell_type": "code",
   "execution_count": 29,
   "metadata": {},
   "outputs": [
    {
     "name": "stdout",
     "output_type": "stream",
     "text": [
      "(1, 2, 3, 'Hello')\n",
      "1\n",
      "\n",
      "[1, 2, 3, 'Hello']\n",
      "[5, 2, 3, 'Hello']\n",
      "\n",
      "(5, 2, 3, 'Hello')\n",
      "\n",
      "(5, 2, 3, 'Hello', 1, 2, 3, 'Hello')\n",
      "\n",
      "(5, 2, 3, 'Hello', 5, 2, 3, 'Hello', 5, 2, 3, 'Hello')\n",
      "\n",
      "1\n"
     ]
    }
   ],
   "source": [
    "# TUPLES\n",
    "\n",
    "t = (1,2,3,\"Hello\")\n",
    "print(t)\n",
    "\n",
    "\n",
    "# tuples are immutable\n",
    "# t[0] = 5                    # ERROR\n",
    "print(t[0])\n",
    "\n",
    "\n",
    "print()\n",
    "# Convert a tuple into a list\n",
    "l = list(t)\n",
    "print(l)\n",
    "\n",
    "l[0] = 5\n",
    "print(l)\n",
    "\n",
    "\n",
    "print()\n",
    "# New Tuple \n",
    "t2 = tuple(l)\n",
    "print(t2)\n",
    "\n",
    "\n",
    "print()\n",
    "#concatentation\n",
    "print(t2 + t)\n",
    "\n",
    "\n",
    "print()\n",
    "#Repetion\n",
    "t2 = t2*3\n",
    "print(t2)\n",
    "\n",
    "\n",
    "print()\n",
    "# Inbuilt Function \n",
    "t = (1,44,3,2)\n",
    "print(min(t))\n",
    "\n",
    "\n",
    "# delete \n",
    "del t"
   ]
  },
  {
   "cell_type": "code",
   "execution_count": 37,
   "metadata": {},
   "outputs": [
    {
     "name": "stdout",
     "output_type": "stream",
     "text": [
      "{'Mango': 100, 'Apple': 80}\n",
      "100\n",
      "\n",
      "{'Mango': 100, 'Apple': 80, 'Guava': 60}\n",
      "[10, 20]\n",
      "\n",
      "90\n",
      "dict_keys(['Mango', 'Apple', 'Guava', 'Grape', 'Pineapple'])\n",
      "\n",
      "dict_values([100, 80, 60, [10, 20], {'Small': 90, 'Large': 150}])\n",
      "\n",
      "{'Mango': 100, 'Apple': 80, 'Guava': 60, 'Grape': [10, 20]}\n",
      "\n",
      "[('Mango', 100), ('Apple', 80), ('Guava', 60), ('Grape', [10, 20])]\n",
      "\n",
      "4\n",
      "{'Apple': 100, 'Papaya': 120, 'Guava': 30, 'Banana': 50}\n"
     ]
    }
   ],
   "source": [
    "# Dictionaries\n",
    "\n",
    "d = {\"Mango\":100,\"Apple\":80}\n",
    "print(d)\n",
    "#Look Up\n",
    "print(d[\"Mango\"],end=\"\\n\\n\")\n",
    "\n",
    "d[\"Guava\"] = 60\n",
    "print(d)\n",
    "\n",
    "d[\"Grape\"] = [10,20]\n",
    "print(d[\"Grape\"],end=\"\\n\\n\")\n",
    "\n",
    "d[\"Pineapple\"] = {\"Small\":90,\"Large\":150}\n",
    "\n",
    "print(d[\"Pineapple\"][\"Small\"])\n",
    "\n",
    "# PRINT KEYS\n",
    "print(d.keys(),end=\"\\n\\n\")\n",
    "\n",
    "# PRINT VALUES\n",
    "print(d.values(),end=\"\\n\\n\")\n",
    "\n",
    "# DELETION\n",
    "del d[\"Pineapple\"]\n",
    "print(d,end=\"\\n\\n\")\n",
    "\n",
    "# TO List\n",
    "l = list(d.items())\n",
    "print(l,end=\"\\n\\n\")\n",
    "\n",
    "# PRINT LENGTH\n",
    "print(len(d))\n",
    "\n",
    "# Combination of 2 Lists to Dict\n",
    "l1 = [\"Apple\",\"Papaya\",\"Guava\",\"Banana\"]\n",
    "l2 = [100,120,30,50]\n",
    "\n",
    "p = dict(zip(l1,l2))\n",
    "print(p)"
   ]
  },
  {
   "cell_type": "code",
   "execution_count": 45,
   "metadata": {},
   "outputs": [
    {
     "name": "stdout",
     "output_type": "stream",
     "text": [
      "{'name': 'learning Python', 'page': 320, 'authors': [{'name': 'A1', 'age': 30}, {'name': 'A2', 'age': 40}]}\n",
      "\n",
      "learning Python\n",
      "\n",
      "<class 'dict'>\n"
     ]
    }
   ],
   "source": [
    "# Complicated Dictionary:\n",
    "book = {\n",
    "    \"name\":\"learning Python\",\n",
    "    \"page\":320,\n",
    "    \"authors\":[\n",
    "        {\n",
    "            \"name\":\"A1\",\n",
    "            \"age\":30\n",
    "        },\n",
    "        {\n",
    "            \"name\":\"A2\",\n",
    "            \"age\":40\n",
    "        }\n",
    "    ]\n",
    "}\n",
    "\n",
    "print(book,end=\"\\n\\n\")\n",
    "print(book[\"name\"],end=\"\\n\\n\")\n",
    "print(type(book))"
   ]
  },
  {
   "cell_type": "code",
   "execution_count": 44,
   "metadata": {},
   "outputs": [
    {
     "name": "stdout",
     "output_type": "stream",
     "text": [
      "{1}\n",
      "{1, 2, 3, 4, 15}\n",
      "not present\n",
      "\n",
      "set()\n"
     ]
    }
   ],
   "source": [
    "# SETS\n",
    "\n",
    "# Basic\n",
    "s=set()\n",
    "s.add(1)\n",
    "s.add(1)\n",
    "print(s)\n",
    "\n",
    "# From List \n",
    "s = set([15,1,2,3,4,3,1,1])\n",
    "print(s)\n",
    "\n",
    "# LookUp\n",
    "if 14 in s:\n",
    "    print(\"present\")\n",
    "else:\n",
    "    print(\"not present\")\n",
    "    \n",
    "\n",
    "print()\n",
    "# CLear\n",
    "s.clear()\n",
    "print(s)"
   ]
  },
  {
   "cell_type": "markdown",
   "metadata": {},
   "source": [
    "# File Handling"
   ]
  },
  {
   "cell_type": "code",
   "execution_count": 2,
   "metadata": {},
   "outputs": [],
   "source": [
    "# Opening and Writing\n",
    "file = open(\"sample_file.txt\",'w')\n",
    "\n",
    "content = \"hello World\\n\"\n",
    "l = [content]*3\n",
    "\n",
    "file.writelines(l)\n",
    "file.close()"
   ]
  },
  {
   "cell_type": "code",
   "execution_count": 18,
   "metadata": {},
   "outputs": [
    {
     "name": "stdout",
     "output_type": "stream",
     "text": [
      "hello World\n",
      "hello World\n",
      "hello World\n",
      "\n",
      "False\n",
      "1 hello World\n",
      "hello World\n",
      "hello World\n",
      "\n"
     ]
    }
   ],
   "source": [
    "# Reading\n",
    "data=open(\"sample_file.txt\",'r')\n",
    "print(data.read())\n",
    "\n",
    "i=0\n",
    "with open(\"sample_file.txt\",\"r\") as f:\n",
    "    i+=1\n",
    "    print(f.closed)\n",
    "    print(i,f.read())"
   ]
  },
  {
   "cell_type": "markdown",
   "metadata": {},
   "source": [
    "# CSV Library for CSV Files "
   ]
  },
  {
   "cell_type": "code",
   "execution_count": 48,
   "metadata": {},
   "outputs": [],
   "source": [
    "# Writing CSV FILE\n",
    "file=open(\"data.csv\",\"w\",encoding='utf-8')\n",
    "headers=\"number,name,id,text\\n\"\n",
    "file.write(headers)\n",
    "\n",
    "for i in range (0,5):\n",
    "    s=str(i)+\",\"\n",
    "    s=s*3\n",
    "    s+=str(i)+\"\\n\"\n",
    "    file.write(s)\n",
    "    \n",
    "file.close()"
   ]
  },
  {
   "cell_type": "code",
   "execution_count": 54,
   "metadata": {},
   "outputs": [
    {
     "name": "stdout",
     "output_type": "stream",
     "text": [
      "['number', 'name', 'id', 'text']\n",
      "['0', '0', '0', '0']\n",
      "['1', '1', '1', '1']\n",
      "['2', '2', '2', '2']\n",
      "['3', '3', '3', '3']\n",
      "['4', '4', '4', '4']\n"
     ]
    }
   ],
   "source": [
    "# Reading CSV FIle\n",
    "import csv\n",
    "file=open(\"data.csv\",\"r\",encoding='utf-8')\n",
    "obj=csv.reader(file)\n",
    "for data in obj:\n",
    "    print(data)"
   ]
  },
  {
   "cell_type": "markdown",
   "metadata": {},
   "source": [
    "# Pandas Library for CSV Files"
   ]
  },
  {
   "cell_type": "code",
   "execution_count": 57,
   "metadata": {},
   "outputs": [],
   "source": [
    "# Get Data Directly from Net Using Link\n",
    "\n",
    "import pandas as pd\n",
    "data=pd.read_csv('http://archive.ics.uci.edu/ml/machine-learning-databases/balance-scale/balance-scale.data',sep=',')"
   ]
  },
  {
   "cell_type": "code",
   "execution_count": 58,
   "metadata": {},
   "outputs": [
    {
     "data": {
      "text/html": [
       "<div>\n",
       "<style scoped>\n",
       "    .dataframe tbody tr th:only-of-type {\n",
       "        vertical-align: middle;\n",
       "    }\n",
       "\n",
       "    .dataframe tbody tr th {\n",
       "        vertical-align: top;\n",
       "    }\n",
       "\n",
       "    .dataframe thead th {\n",
       "        text-align: right;\n",
       "    }\n",
       "</style>\n",
       "<table border=\"1\" class=\"dataframe\">\n",
       "  <thead>\n",
       "    <tr style=\"text-align: right;\">\n",
       "      <th></th>\n",
       "      <th>B</th>\n",
       "      <th>1</th>\n",
       "      <th>1.1</th>\n",
       "      <th>1.2</th>\n",
       "      <th>1.3</th>\n",
       "    </tr>\n",
       "  </thead>\n",
       "  <tbody>\n",
       "    <tr>\n",
       "      <td>0</td>\n",
       "      <td>R</td>\n",
       "      <td>1</td>\n",
       "      <td>1</td>\n",
       "      <td>1</td>\n",
       "      <td>2</td>\n",
       "    </tr>\n",
       "    <tr>\n",
       "      <td>1</td>\n",
       "      <td>R</td>\n",
       "      <td>1</td>\n",
       "      <td>1</td>\n",
       "      <td>1</td>\n",
       "      <td>3</td>\n",
       "    </tr>\n",
       "    <tr>\n",
       "      <td>2</td>\n",
       "      <td>R</td>\n",
       "      <td>1</td>\n",
       "      <td>1</td>\n",
       "      <td>1</td>\n",
       "      <td>4</td>\n",
       "    </tr>\n",
       "    <tr>\n",
       "      <td>3</td>\n",
       "      <td>R</td>\n",
       "      <td>1</td>\n",
       "      <td>1</td>\n",
       "      <td>1</td>\n",
       "      <td>5</td>\n",
       "    </tr>\n",
       "    <tr>\n",
       "      <td>4</td>\n",
       "      <td>R</td>\n",
       "      <td>1</td>\n",
       "      <td>1</td>\n",
       "      <td>2</td>\n",
       "      <td>1</td>\n",
       "    </tr>\n",
       "  </tbody>\n",
       "</table>\n",
       "</div>"
      ],
      "text/plain": [
       "   B  1  1.1  1.2  1.3\n",
       "0  R  1    1    1    2\n",
       "1  R  1    1    1    3\n",
       "2  R  1    1    1    4\n",
       "3  R  1    1    1    5\n",
       "4  R  1    1    2    1"
      ]
     },
     "execution_count": 58,
     "metadata": {},
     "output_type": "execute_result"
    }
   ],
   "source": [
    "data.head()"
   ]
  },
  {
   "cell_type": "code",
   "execution_count": 59,
   "metadata": {},
   "outputs": [
    {
     "data": {
      "text/html": [
       "<div>\n",
       "<style scoped>\n",
       "    .dataframe tbody tr th:only-of-type {\n",
       "        vertical-align: middle;\n",
       "    }\n",
       "\n",
       "    .dataframe tbody tr th {\n",
       "        vertical-align: top;\n",
       "    }\n",
       "\n",
       "    .dataframe thead th {\n",
       "        text-align: right;\n",
       "    }\n",
       "</style>\n",
       "<table border=\"1\" class=\"dataframe\">\n",
       "  <thead>\n",
       "    <tr style=\"text-align: right;\">\n",
       "      <th></th>\n",
       "      <th>B</th>\n",
       "      <th>1</th>\n",
       "      <th>1.1</th>\n",
       "      <th>1.2</th>\n",
       "      <th>1.3</th>\n",
       "    </tr>\n",
       "  </thead>\n",
       "  <tbody>\n",
       "    <tr>\n",
       "      <td>621</td>\n",
       "      <td>L</td>\n",
       "      <td>5</td>\n",
       "      <td>5</td>\n",
       "      <td>5</td>\n",
       "      <td>3</td>\n",
       "    </tr>\n",
       "    <tr>\n",
       "      <td>622</td>\n",
       "      <td>L</td>\n",
       "      <td>5</td>\n",
       "      <td>5</td>\n",
       "      <td>5</td>\n",
       "      <td>4</td>\n",
       "    </tr>\n",
       "    <tr>\n",
       "      <td>623</td>\n",
       "      <td>B</td>\n",
       "      <td>5</td>\n",
       "      <td>5</td>\n",
       "      <td>5</td>\n",
       "      <td>5</td>\n",
       "    </tr>\n",
       "  </tbody>\n",
       "</table>\n",
       "</div>"
      ],
      "text/plain": [
       "     B  1  1.1  1.2  1.3\n",
       "621  L  5    5    5    3\n",
       "622  L  5    5    5    4\n",
       "623  B  5    5    5    5"
      ]
     },
     "execution_count": 59,
     "metadata": {},
     "output_type": "execute_result"
    }
   ],
   "source": [
    "data.tail(3)"
   ]
  },
  {
   "cell_type": "code",
   "execution_count": 61,
   "metadata": {},
   "outputs": [
    {
     "name": "stdout",
     "output_type": "stream",
     "text": [
      "[['R' 1 1 1 2]\n",
      " ['R' 1 1 1 3]\n",
      " ['R' 1 1 1 4]\n",
      " ...\n",
      " ['L' 5 5 5 3]\n",
      " ['L' 5 5 5 4]\n",
      " ['B' 5 5 5 5]]\n"
     ]
    }
   ],
   "source": [
    "# PRINT ALL VALUES\n",
    "print(data.values[:])"
   ]
  },
  {
   "cell_type": "code",
   "execution_count": 71,
   "metadata": {},
   "outputs": [
    {
     "name": "stdout",
     "output_type": "stream",
     "text": [
      "(624, 5) <-- 624 ROWS and each row has 5 entries \n",
      "\n",
      "[['R' 1 1 1 3]\n",
      " ['R' 1 1 1 4]\n",
      " ['R' 1 1 1 5]\n",
      " ...\n",
      " ['L' 5 5 5 3]\n",
      " ['L' 5 5 5 4]\n",
      " ['B' 5 5 5 5]]\n"
     ]
    }
   ],
   "source": [
    "# Print in Range \n",
    "print(data.shape,end=\" <-- 624 ROWS and each row has 5 entries \\n\\n\")\n",
    "\n",
    "print(data.values[1:,0:5])"
   ]
  },
  {
   "cell_type": "markdown",
   "metadata": {},
   "source": [
    "# OOPS"
   ]
  },
  {
   "cell_type": "code",
   "execution_count": 74,
   "metadata": {},
   "outputs": [
    {
     "name": "stdout",
     "output_type": "stream",
     "text": [
      "<class '__main__.Car'>\n"
     ]
    }
   ],
   "source": [
    "class Car:\n",
    "    pass \n",
    "\n",
    "c = Car()\n",
    "print(type(c))"
   ]
  },
  {
   "cell_type": "code",
   "execution_count": 75,
   "metadata": {},
   "outputs": [
    {
     "name": "stdout",
     "output_type": "stream",
     "text": [
      "Hello LOLO\n",
      "My Name is  Jai\n",
      "I am from  Lamborghini Veneno\n",
      "I am  Indian\n",
      "In Secret Method of  Jai\n",
      "My Name is  Jai\n",
      "I am from  Lamborghini\n",
      "I am  Indian\n",
      "In Secret Method of  Jai\n"
     ]
    }
   ],
   "source": [
    "# Bigger class\n",
    "class Person:\n",
    "    #Class Variable, common for all objects of the same class\n",
    "    nationality = \"Indian\"\n",
    "    \n",
    "    def __init__(self,pname,clg):\n",
    "        self.name = pname\n",
    "        self.college = clg\n",
    "    \n",
    "    def sayHi(self,name):\n",
    "        print(\"Hello \"+name)\n",
    "        \n",
    "    def __secretMethod(self):\n",
    "        print(\"In Secret Method of \",self.name)\n",
    "    \n",
    "    def introduce(self):\n",
    "        print(\"My Name is \",self.name)\n",
    "        print(\"I am from \",self.college)\n",
    "        print(\"I am \",self.nationality)\n",
    "        self.__secretMethod()\n",
    "        \n",
    "p = Person(\"Jai\",\"Lamborghini Veneno\")\n",
    "p.sayHi(\"LOLO\")\n",
    "p.introduce()\n",
    "#p.__secretMethod()\n",
    "\n",
    "p2 = Person(\"Jai\",\"Lamborghini\")\n",
    "p2.introduce()"
   ]
  },
  {
   "cell_type": "markdown",
   "metadata": {},
   "source": [
    "## `Jai Chaudhry` `2K18/SE/069` `ML-LAB-C2-G2` "
   ]
  }
 ],
 "metadata": {
  "kernelspec": {
   "display_name": "Python 3",
   "language": "python",
   "name": "python3"
  },
  "language_info": {
   "codemirror_mode": {
    "name": "ipython",
    "version": 3
   },
   "file_extension": ".py",
   "mimetype": "text/x-python",
   "name": "python",
   "nbconvert_exporter": "python",
   "pygments_lexer": "ipython3",
   "version": "3.7.4"
  }
 },
 "nbformat": 4,
 "nbformat_minor": 2
}
